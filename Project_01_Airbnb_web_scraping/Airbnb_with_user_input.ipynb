{
 "cells": [
  {
   "cell_type": "markdown",
   "metadata": {},
   "source": [
    "# AIR BNB"
   ]
  },
  {
   "cell_type": "markdown",
   "metadata": {},
   "source": [
    "## Importing Libraries"
   ]
  },
  {
   "cell_type": "code",
   "execution_count": 2,
   "metadata": {
    "scrolled": false
   },
   "outputs": [],
   "source": [
    "import json\n",
    "import requests as r\n",
    "import pandas as pd\n",
    "from pandas.io.json import json_normalize\n",
    "\n",
    "\n",
    "import datetime\n",
    "from datetime import datetime\n",
    "import re\n",
    "from datetime import date  \n",
    "import time"
   ]
  },
  {
   "cell_type": "markdown",
   "metadata": {},
   "source": [
    "## User inputs: "
   ]
  },
  {
   "cell_type": "code",
   "execution_count": 3,
   "metadata": {},
   "outputs": [
    {
     "name": "stdout",
     "output_type": "stream",
     "text": [
      "Please enter check-in date in format 'YYYY-MM-DD' 2019-10-23\n",
      "Your check-in date is either not in correct format or in the past\n",
      "Please enter check-in date in format 'YYYY-MM-DD' 2019-10-28\n",
      "Please enter check-out date in format 'YYYY-MM-DD' 2019-11-07\n",
      "Please enter the number of adults: 2\n",
      "Please enter the number of children: 0\n",
      "Please enter the number of infants: 0\n",
      "Please wait, we are getting the information for date from 2019-10-28 to 2019-11-07, for 2 adults, 0 childs, 0 infants\n"
     ]
    }
   ],
   "source": [
    "# check in\n",
    "while True:\n",
    "    check_in = input(\"Please enter check-in date in format 'YYYY-MM-DD' \")\n",
    "    today = date.today()\n",
    "    d1 = today.strftime(\"%Y-%m-%d\")\n",
    "    \n",
    "    if (re.search(\"([12]\\d{3})-(0[1-9]|1[0-2])-(0[1-9]|[12]\\d|3[01])\", check_in)) and (d1<check_in):\n",
    "        break\n",
    "    else: \n",
    "        print('Your check-in date is either not in correct format or in the past')\n",
    "\n",
    "# Check out\n",
    "while True:\n",
    "    check_out = input(\"Please enter check-out date in format 'YYYY-MM-DD' \") \n",
    "    if (re.search(\"([12]\\d{3})-(0[1-9]|1[0-2])-(0[1-9]|[12]\\d|3[01])\", check_out)) and (check_in<check_out):\n",
    "        break\n",
    "    else: \n",
    "        print('Your check-out date is either not in correct format or in the past')\n",
    "        \n",
    "# number of adult\n",
    "while True:\n",
    "    num_adults = input('Please enter the number of adults: ')\n",
    "    if ((num_adults.isdigit()) and (int(num_adults)>0)):\n",
    "        break\n",
    "    else:\n",
    "        print('Please enter number only')\n",
    "        \n",
    "# number of children\n",
    "while True:\n",
    "    num_childs = input('Please enter the number of children: ')\n",
    "    if num_childs.isdigit():\n",
    "        break\n",
    "    else:\n",
    "        print('Please enter number only')\n",
    "\n",
    "# number of infants\n",
    "while True:\n",
    "    num_infants = input('Please enter the number of infants: ')\n",
    "    if num_infants.isdigit():\n",
    "        break\n",
    "    else:\n",
    "        print('Please enter number only')\n",
    "\n",
    "print(f'Please wait, we are getting the information for date from {check_in} to {check_out}, for {num_adults} adults, {num_childs} childs, {num_infants} infants')"
   ]
  },
  {
   "cell_type": "markdown",
   "metadata": {},
   "source": [
    "## Scraping using user inputs: "
   ]
  },
  {
   "cell_type": "code",
   "execution_count": 4,
   "metadata": {
    "scrolled": true
   },
   "outputs": [],
   "source": [
    "# Get value for while loop: \n",
    "url = f'https://www.airbnb.com/api/v2/explore_tabs?_format=for_explore_search_web&_intents=p1&adults={num_adults}&auto_ib=false&checkin={check_in}&checkout={check_out}&children={num_childs}&currency=EUR&current_tab_id=home_tab&experiences_per_grid=20&fetch_filters=true&guidebooks_per_grid=20&has_zero_guest_treatment=true&infants={num_infants}&is_guided_search=true&is_new_cards_experiment=true&is_standard_search=true&items_offset=18&items_per_grid=18&key=d306zoyjsyarp7ifhu67rjxn52tv0t20&locale=en&luxury_pre_launch=true&metadata_only=false&place_id=ChIJD7fiBh9u5kcRYJSMaMOCCwQ&query=Berlin&query_understanding_enabled=true&refinement_paths%5B%5D=%2Fhomes&s_tag=V3RB4kXz&satori_version=1.1.9&screen_height=821&screen_size=small&screen_width=705&search_type=pagination&section_offset=7&selected_tab_id=home_tab&show_groupings=true&source=mc_search_bar&supports_for_you_v3=true&timezone_offset=120&toddlers=0&version=1.5.8'\n",
    "response = r.get(url)\n",
    "result = response.json()\n",
    "flat_data = json_normalize(result)\n",
    "flat_data = flat_data.explore_tabs[0]\n",
    "flat_data1= json_normalize(flat_data)\n",
    "a = flat_data1['pagination_metadata.has_next_page'][0]\n",
    "\n",
    "# Looping (Loop through all the pages)\n",
    "df = pd.DataFrame()\n",
    "page_number = 0\n",
    "while a == True: \n",
    "    page_number = page_number + 1 \n",
    "    k = 18*page_number\n",
    "    url = f'https://www.airbnb.com/api/v2/explore_tabs?_format=for_explore_search_web&_intents=p1&adults={num_adults}&auto_ib=false&checkin={check_in}&checkout={check_out}&children={num_childs}&currency=EUR&current_tab_id=home_tab&experiences_per_grid=20&fetch_filters=true&guidebooks_per_grid=20&has_zero_guest_treatment=true&infants={num_infants}&is_guided_search=true&is_new_cards_experiment=true&is_standard_search=true&items_offset={k}&items_per_grid=18&key=d306zoyjsyarp7ifhu67rjxn52tv0t20&locale=en&luxury_pre_launch=true&metadata_only=false&place_id=ChIJD7fiBh9u5kcRYJSMaMOCCwQ&query=Berlin&query_understanding_enabled=true&refinement_paths%5B%5D=%2Fhomes&s_tag=V3RB4kXz&satori_version=1.1.9&screen_height=821&screen_size=small&screen_width=705&search_type=pagination&section_offset=7&selected_tab_id=home_tab&show_groupings=true&source=mc_search_bar&supports_for_you_v3=true&timezone_offset=120&toddlers=0&version=1.5.8'\n",
    "    response = r.get(url)\n",
    "    result = response.json()\n",
    "    flattened_data = json_normalize(result)\n",
    "    flattened_data = json_normalize(flattened_data.explore_tabs[0])\n",
    "    a = flattened_data['pagination_metadata.has_next_page'][0] # taking the first value of the column\n",
    "    flattened_data = json_normalize(flattened_data.sections[0]) \n",
    "    flattened_data = json_normalize(flattened_data.listings[0])\n",
    "    flattened_data = flattened_data.set_index('listing.id')\n",
    "    df = df.append(flattened_data)\n",
    "    time.sleep(10)\n"
   ]
  },
  {
   "cell_type": "markdown",
   "metadata": {},
   "source": [
    "## Cleaning columns names and choosing neccesary columns"
   ]
  },
  {
   "cell_type": "code",
   "execution_count": 6,
   "metadata": {},
   "outputs": [
    {
     "name": "stdout",
     "output_type": "stream",
     "text": [
      "Do you want to save the list? Y/N Y\n",
      "Thank you for using us! The list is now saved on your computer.\n"
     ]
    }
   ],
   "source": [
    "# Droping columns:cols = list(df.columns)\n",
    "cols = list(df.columns)\n",
    "cols = [re.sub(r'listing\\.','',i) for i in cols]\n",
    "cols = [re.sub(r'pricing_quote\\.','',i) for i in cols]\n",
    "cols = [re.sub(r'verified\\.','',i) for i in cols]\n",
    "df.columns=cols\n",
    "df1 = df[['city','name','neighborhood','min_nights','public_address','room_and_property_type',\n",
    "          'preview_amenities','bedroom_label','bed_label','bathroom_label','picture.picture',\n",
    "          'picture_urls','picture_count','rate.amount_formatted','rate_with_service_fee.amount_formatted',\n",
    "          'price.total.amount_formatted','price_drop_disclaimer','guest_label','person_capacity','avg_rating',\n",
    "          'reviews_count','badge_secondary_text']]\n",
    "\n",
    "\n",
    "# Saving the list\n",
    "while True:\n",
    "    save_list = input('Do you want to save the list? Y/N ')\n",
    "    if (re.search(\"Y\", save_list)):\n",
    "        df1.to_excel('Airbnb.xlsx')\n",
    "        print('Thank you for using us! The list is now saved on your computer.')\n",
    "        break\n",
    "    elif (re.search(\"N\", save_list)):\n",
    "        confirm = input('Are you sure? Y/N ')\n",
    "        if (re.search(\"Y\", confirm)):\n",
    "            print('Thank you for using us!')\n",
    "        elif (re.search(\"N\", confirm)):\n",
    "            df1.to_excel('Airbnb.xlsx')\n",
    "        print('Thank you for using us! The list is now saved on your computer.')  \n",
    "        break\n",
    "    else: \n",
    "        print('Please type only Y or N')"
   ]
  },
  {
   "cell_type": "code",
   "execution_count": null,
   "metadata": {},
   "outputs": [],
   "source": []
  }
 ],
 "metadata": {
  "kernelspec": {
   "display_name": "Python 3",
   "language": "python",
   "name": "python3"
  },
  "language_info": {
   "codemirror_mode": {
    "name": "ipython",
    "version": 3
   },
   "file_extension": ".py",
   "mimetype": "text/x-python",
   "name": "python",
   "nbconvert_exporter": "python",
   "pygments_lexer": "ipython3",
   "version": "3.7.3"
  }
 },
 "nbformat": 4,
 "nbformat_minor": 2
}
