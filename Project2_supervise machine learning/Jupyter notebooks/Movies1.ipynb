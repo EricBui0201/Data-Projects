{
 "cells": [
  {
   "cell_type": "code",
   "execution_count": null,
   "metadata": {},
   "outputs": [],
   "source": [
    "import numpy as np\n",
    "import pandas as pd\n",
    "import json\n",
    "\n",
    "\n",
    "from pandas.io.json import json_normalize"
   ]
  },
  {
   "cell_type": "code",
   "execution_count": null,
   "metadata": {},
   "outputs": [],
   "source": [
    "movies = pd.read_csv('movies_metadata.csv')"
   ]
  },
  {
   "cell_type": "code",
   "execution_count": 3,
   "metadata": {},
   "outputs": [
    {
     "data": {
      "text/plain": [
       "(45466, 24)"
      ]
     },
     "execution_count": 3,
     "metadata": {},
     "output_type": "execute_result"
    }
   ],
   "source": [
    "# checking shape \n",
    "movies.shape"
   ]
  },
  {
   "cell_type": "code",
   "execution_count": 4,
   "metadata": {},
   "outputs": [
    {
     "data": {
      "text/html": [
       "<div>\n",
       "<style scoped>\n",
       "    .dataframe tbody tr th:only-of-type {\n",
       "        vertical-align: middle;\n",
       "    }\n",
       "\n",
       "    .dataframe tbody tr th {\n",
       "        vertical-align: top;\n",
       "    }\n",
       "\n",
       "    .dataframe thead th {\n",
       "        text-align: right;\n",
       "    }\n",
       "</style>\n",
       "<table border=\"1\" class=\"dataframe\">\n",
       "  <thead>\n",
       "    <tr style=\"text-align: right;\">\n",
       "      <th></th>\n",
       "      <th>adult</th>\n",
       "      <th>belongs_to_collection</th>\n",
       "      <th>budget</th>\n",
       "      <th>genres</th>\n",
       "      <th>homepage</th>\n",
       "      <th>id</th>\n",
       "      <th>imdb_id</th>\n",
       "      <th>original_language</th>\n",
       "      <th>original_title</th>\n",
       "      <th>overview</th>\n",
       "      <th>...</th>\n",
       "      <th>release_date</th>\n",
       "      <th>revenue</th>\n",
       "      <th>runtime</th>\n",
       "      <th>spoken_languages</th>\n",
       "      <th>status</th>\n",
       "      <th>tagline</th>\n",
       "      <th>title</th>\n",
       "      <th>video</th>\n",
       "      <th>vote_average</th>\n",
       "      <th>vote_count</th>\n",
       "    </tr>\n",
       "  </thead>\n",
       "  <tbody>\n",
       "    <tr>\n",
       "      <th>0</th>\n",
       "      <td>False</td>\n",
       "      <td>{'id': 10194, 'name': 'Toy Story Collection', ...</td>\n",
       "      <td>30000000</td>\n",
       "      <td>[{'id': 16, 'name': 'Animation'}, {'id': 35, '...</td>\n",
       "      <td>http://toystory.disney.com/toy-story</td>\n",
       "      <td>862</td>\n",
       "      <td>tt0114709</td>\n",
       "      <td>en</td>\n",
       "      <td>Toy Story</td>\n",
       "      <td>Led by Woody, Andy's toys live happily in his ...</td>\n",
       "      <td>...</td>\n",
       "      <td>1995-10-30</td>\n",
       "      <td>373554033.0</td>\n",
       "      <td>81.0</td>\n",
       "      <td>[{'iso_639_1': 'en', 'name': 'English'}]</td>\n",
       "      <td>Released</td>\n",
       "      <td>NaN</td>\n",
       "      <td>Toy Story</td>\n",
       "      <td>False</td>\n",
       "      <td>7.7</td>\n",
       "      <td>5415.0</td>\n",
       "    </tr>\n",
       "    <tr>\n",
       "      <th>1</th>\n",
       "      <td>False</td>\n",
       "      <td>NaN</td>\n",
       "      <td>65000000</td>\n",
       "      <td>[{'id': 12, 'name': 'Adventure'}, {'id': 14, '...</td>\n",
       "      <td>NaN</td>\n",
       "      <td>8844</td>\n",
       "      <td>tt0113497</td>\n",
       "      <td>en</td>\n",
       "      <td>Jumanji</td>\n",
       "      <td>When siblings Judy and Peter discover an encha...</td>\n",
       "      <td>...</td>\n",
       "      <td>1995-12-15</td>\n",
       "      <td>262797249.0</td>\n",
       "      <td>104.0</td>\n",
       "      <td>[{'iso_639_1': 'en', 'name': 'English'}, {'iso...</td>\n",
       "      <td>Released</td>\n",
       "      <td>Roll the dice and unleash the excitement!</td>\n",
       "      <td>Jumanji</td>\n",
       "      <td>False</td>\n",
       "      <td>6.9</td>\n",
       "      <td>2413.0</td>\n",
       "    </tr>\n",
       "    <tr>\n",
       "      <th>2</th>\n",
       "      <td>False</td>\n",
       "      <td>{'id': 119050, 'name': 'Grumpy Old Men Collect...</td>\n",
       "      <td>0</td>\n",
       "      <td>[{'id': 10749, 'name': 'Romance'}, {'id': 35, ...</td>\n",
       "      <td>NaN</td>\n",
       "      <td>15602</td>\n",
       "      <td>tt0113228</td>\n",
       "      <td>en</td>\n",
       "      <td>Grumpier Old Men</td>\n",
       "      <td>A family wedding reignites the ancient feud be...</td>\n",
       "      <td>...</td>\n",
       "      <td>1995-12-22</td>\n",
       "      <td>0.0</td>\n",
       "      <td>101.0</td>\n",
       "      <td>[{'iso_639_1': 'en', 'name': 'English'}]</td>\n",
       "      <td>Released</td>\n",
       "      <td>Still Yelling. Still Fighting. Still Ready for...</td>\n",
       "      <td>Grumpier Old Men</td>\n",
       "      <td>False</td>\n",
       "      <td>6.5</td>\n",
       "      <td>92.0</td>\n",
       "    </tr>\n",
       "  </tbody>\n",
       "</table>\n",
       "<p>3 rows × 24 columns</p>\n",
       "</div>"
      ],
      "text/plain": [
       "   adult                              belongs_to_collection    budget  \\\n",
       "0  False  {'id': 10194, 'name': 'Toy Story Collection', ...  30000000   \n",
       "1  False                                                NaN  65000000   \n",
       "2  False  {'id': 119050, 'name': 'Grumpy Old Men Collect...         0   \n",
       "\n",
       "                                              genres  \\\n",
       "0  [{'id': 16, 'name': 'Animation'}, {'id': 35, '...   \n",
       "1  [{'id': 12, 'name': 'Adventure'}, {'id': 14, '...   \n",
       "2  [{'id': 10749, 'name': 'Romance'}, {'id': 35, ...   \n",
       "\n",
       "                               homepage     id    imdb_id original_language  \\\n",
       "0  http://toystory.disney.com/toy-story    862  tt0114709                en   \n",
       "1                                   NaN   8844  tt0113497                en   \n",
       "2                                   NaN  15602  tt0113228                en   \n",
       "\n",
       "     original_title                                           overview  ...  \\\n",
       "0         Toy Story  Led by Woody, Andy's toys live happily in his ...  ...   \n",
       "1           Jumanji  When siblings Judy and Peter discover an encha...  ...   \n",
       "2  Grumpier Old Men  A family wedding reignites the ancient feud be...  ...   \n",
       "\n",
       "  release_date      revenue runtime  \\\n",
       "0   1995-10-30  373554033.0    81.0   \n",
       "1   1995-12-15  262797249.0   104.0   \n",
       "2   1995-12-22          0.0   101.0   \n",
       "\n",
       "                                    spoken_languages    status  \\\n",
       "0           [{'iso_639_1': 'en', 'name': 'English'}]  Released   \n",
       "1  [{'iso_639_1': 'en', 'name': 'English'}, {'iso...  Released   \n",
       "2           [{'iso_639_1': 'en', 'name': 'English'}]  Released   \n",
       "\n",
       "                                             tagline             title  video  \\\n",
       "0                                                NaN         Toy Story  False   \n",
       "1          Roll the dice and unleash the excitement!           Jumanji  False   \n",
       "2  Still Yelling. Still Fighting. Still Ready for...  Grumpier Old Men  False   \n",
       "\n",
       "  vote_average vote_count  \n",
       "0          7.7     5415.0  \n",
       "1          6.9     2413.0  \n",
       "2          6.5       92.0  \n",
       "\n",
       "[3 rows x 24 columns]"
      ]
     },
     "execution_count": 4,
     "metadata": {},
     "output_type": "execute_result"
    }
   ],
   "source": [
    "# checking some first rows:\n",
    "\n",
    "movies.head(3)"
   ]
  },
  {
   "cell_type": "code",
   "execution_count": 5,
   "metadata": {
    "collapsed": true
   },
   "outputs": [
    {
     "data": {
      "text/plain": [
       "adult                    0.000000\n",
       "belongs_to_collection    0.901157\n",
       "budget                   0.000000\n",
       "genres                   0.000000\n",
       "homepage                 0.828839\n",
       "id                       0.000000\n",
       "imdb_id                  0.000374\n",
       "original_language        0.000242\n",
       "original_title           0.000000\n",
       "overview                 0.020983\n",
       "popularity               0.000110\n",
       "poster_path              0.008490\n",
       "production_companies     0.000066\n",
       "production_countries     0.000066\n",
       "release_date             0.001914\n",
       "revenue                  0.000132\n",
       "runtime                  0.005785\n",
       "spoken_languages         0.000132\n",
       "status                   0.001914\n",
       "tagline                  0.551049\n",
       "title                    0.000132\n",
       "video                    0.000132\n",
       "vote_average             0.000132\n",
       "vote_count               0.000132\n",
       "dtype: float64"
      ]
     },
     "execution_count": 5,
     "metadata": {},
     "output_type": "execute_result"
    }
   ],
   "source": [
    "# checking nan values\n",
    "movies.isnull().sum()/movies.shape[0] "
   ]
  },
  {
   "cell_type": "code",
   "execution_count": 6,
   "metadata": {},
   "outputs": [
    {
     "data": {
      "text/plain": [
       "belongs_to_collection    0.901157\n",
       "homepage                 0.828839\n",
       "tagline                  0.551049\n",
       "dtype: float64"
      ]
     },
     "execution_count": 6,
     "metadata": {},
     "output_type": "execute_result"
    }
   ],
   "source": [
    "# get the percentage of the nan value for each attribute\n",
    "null_cols = movies.isnull().sum()/movies.shape[0]\n",
    "# get the attribute which has more than 50% are nan values\n",
    "null_cols[null_cols>0.5] "
   ]
  },
  {
   "cell_type": "code",
   "execution_count": 7,
   "metadata": {},
   "outputs": [],
   "source": [
    "# Dropping the attributes which have more than 50 missing values\n",
    "movies.drop(columns = list(null_cols[null_cols > 0.5].index), axis =1, inplace = True)"
   ]
  },
  {
   "cell_type": "code",
   "execution_count": 8,
   "metadata": {
    "scrolled": true
   },
   "outputs": [
    {
     "data": {
      "text/plain": [
       "(45466, 21)"
      ]
     },
     "execution_count": 8,
     "metadata": {},
     "output_type": "execute_result"
    }
   ],
   "source": [
    "# Check if the attributes are dropped\n",
    "movies.shape"
   ]
  },
  {
   "cell_type": "code",
   "execution_count": 10,
   "metadata": {},
   "outputs": [],
   "source": [
    "# dropping not important columns\n",
    "movies.drop(columns=['overview','poster_path','status'], axis =1, inplace =True)\n"
   ]
  },
  {
   "cell_type": "code",
   "execution_count": 11,
   "metadata": {
    "scrolled": false
   },
   "outputs": [
    {
     "data": {
      "text/plain": [
       "adult                     0\n",
       "budget                    0\n",
       "genres                    0\n",
       "id                        0\n",
       "imdb_id                  17\n",
       "original_language        11\n",
       "original_title            0\n",
       "popularity                5\n",
       "production_companies      3\n",
       "production_countries      3\n",
       "release_date             87\n",
       "revenue                   6\n",
       "runtime                 263\n",
       "spoken_languages          6\n",
       "title                     6\n",
       "video                     6\n",
       "vote_average              6\n",
       "vote_count                6\n",
       "dtype: int64"
      ]
     },
     "execution_count": 11,
     "metadata": {},
     "output_type": "execute_result"
    }
   ],
   "source": [
    "movies.isnull().sum()"
   ]
  },
  {
   "cell_type": "code",
   "execution_count": 12,
   "metadata": {},
   "outputs": [],
   "source": [
    "# drop all rows with nan values, since they are only 300 rows / 45466 rows in the original dataframe\n",
    "#reset index after drop, use the drop to avoid the old index being added as a column\n",
    "movies = movies.dropna().reset_index(drop=True) \n"
   ]
  },
  {
   "cell_type": "code",
   "execution_count": 13,
   "metadata": {},
   "outputs": [],
   "source": [
    "movies = movies.rename(columns={\"id\": \"movie_id\"}) \n",
    "#Renamed beacause we have id in side the crew and the cast columns, will use it to merge dataframes\n"
   ]
  },
  {
   "cell_type": "markdown",
   "metadata": {},
   "source": [
    "## GENRES: \n",
    "#### - the data in Genres column is a json inside a list \n",
    "#### - See file Genres.ipynb for more details\n"
   ]
  },
  {
   "cell_type": "code",
   "execution_count": 15,
   "metadata": {},
   "outputs": [],
   "source": [
    "genres_1 = []\n",
    "for i,r in enumerate(movies.genres): \n",
    "    j = eval(r)\n",
    "    for k in j: #j is now one dictionary inside the list, we want to add the movies id into each dictionary\n",
    "        k['movie_id'] = movies['movie_id'][i]\n",
    "    genres_1.append(j)\n",
    "    \n",
    "genres=[]\n",
    "for i in genres_1:\n",
    "    genres.extend(i)  #use extend instead of append because we want only 1 list, not 1ists inside the list\n",
    "\n",
    "genres = json_normalize(genres)  # flatten all the json in the list\n",
    "genres.to_csv('Genres.csv',index=False) # saving to csv for future usage\n",
    "\n"
   ]
  },
  {
   "cell_type": "markdown",
   "metadata": {},
   "source": [
    "##  Production_companie\n",
    "#### - See file Productions.ipynb for more details"
   ]
  },
  {
   "cell_type": "code",
   "execution_count": 16,
   "metadata": {},
   "outputs": [],
   "source": [
    "prod_1 = []\n",
    "for i,r in enumerate(movies.production_companies): \n",
    "    j = eval(r)\n",
    "    for k in j: \n",
    "        k['movie_id'] = movies['movie_id'][i]\n",
    "    prod_1.append(j)\n",
    "\n",
    "prod=[]\n",
    "for i in prod_1:\n",
    "    prod.extend(i)  #use extend instead of append because we want only 1 list, not 1ists inside the list\n",
    "\n",
    "prod = json_normalize(prod)\n",
    "prod.to_csv('Productions.csv',index=False)"
   ]
  },
  {
   "cell_type": "markdown",
   "metadata": {},
   "source": [
    "## Countries\n",
    "#### - See file Countries.ipynb for more details"
   ]
  },
  {
   "cell_type": "code",
   "execution_count": 17,
   "metadata": {},
   "outputs": [],
   "source": [
    "# GETTING the production_companies:\n",
    "country_1 = []\n",
    "for i,r in enumerate(movies.production_countries): \n",
    "    j = eval(r)\n",
    "    for k in j:    \n",
    "        k['movie_id'] = movies['movie_id'][i]\n",
    "    country_1.append(j)\n",
    "\n",
    "country=[]\n",
    "for i in prod_1:\n",
    "    country.extend(i)  #use extend instead of append because we want only 1 list, not 1ists inside the list\n",
    "\n",
    "country = json_normalize(country)\n",
    "country.to_csv('Countries.csv',index=False)"
   ]
  },
  {
   "cell_type": "markdown",
   "metadata": {},
   "source": [
    "## SCRAPING IMDB FOR REVENUE and BUDGET\n",
    "#### - because most of the budget and revenue are == 0"
   ]
  },
  {
   "cell_type": "code",
   "execution_count": 22,
   "metadata": {
    "collapsed": true
   },
   "outputs": [
    {
     "data": {
      "text/plain": [
       "0.0            37706\n",
       "12000000.0        20\n",
       "11000000.0        19\n",
       "10000000.0        19\n",
       "2000000.0         18\n",
       "6000000.0         17\n",
       "5000000.0         14\n",
       "500000.0          13\n",
       "8000000.0         13\n",
       "1.0               12\n",
       "14000000.0        12\n",
       "7000000.0         11\n",
       "3000000.0         10\n",
       "1000000.0         10\n",
       "20000000.0        10\n",
       "1500000.0          9\n",
       "4000000.0          9\n",
       "16000000.0         8\n",
       "30000000.0         8\n",
       "4100000.0          8\n",
       "25000000.0         8\n",
       "15000000.0         8\n",
       "2500000.0          8\n",
       "3.0                8\n",
       "18000000.0         7\n",
       "4300000.0          7\n",
       "13000000.0         7\n",
       "1400000.0          6\n",
       "100000000.0        6\n",
       "9000000.0          6\n",
       "               ...  \n",
       "26533200.0         1\n",
       "40485039.0         1\n",
       "122915111.0        1\n",
       "80936232.0         1\n",
       "161849455.0        1\n",
       "245676146.0        1\n",
       "18130888.0         1\n",
       "316000.0           1\n",
       "29450919.0         1\n",
       "6629178.0          1\n",
       "89289910.0         1\n",
       "1133031.0          1\n",
       "20225989.0         1\n",
       "40452643.0         1\n",
       "26518355.0         1\n",
       "57231524.0         1\n",
       "10113733.0         1\n",
       "4532791.0          1\n",
       "414404.0           1\n",
       "13260050.0         1\n",
       "1919653.0          1\n",
       "566611.0           1\n",
       "72527595.0         1\n",
       "80916492.0         1\n",
       "161834276.0        1\n",
       "245724603.0        1\n",
       "12212123.0         1\n",
       "8203235.0          1\n",
       "25900.0            1\n",
       "8887603.0          1\n",
       "Name: revenue, Length: 6858, dtype: int64"
      ]
     },
     "execution_count": 22,
     "metadata": {},
     "output_type": "execute_result"
    }
   ],
   "source": [
    "movies.revenue.value_counts()"
   ]
  },
  {
   "cell_type": "code",
   "execution_count": 23,
   "metadata": {
    "collapsed": true
   },
   "outputs": [
    {
     "data": {
      "text/plain": [
       "0            36232\n",
       "5000000        286\n",
       "10000000       259\n",
       "20000000       243\n",
       "2000000        241\n",
       "15000000       226\n",
       "3000000        223\n",
       "25000000       206\n",
       "1000000        195\n",
       "30000000       190\n",
       "4000000        181\n",
       "6000000        173\n",
       "12000000       172\n",
       "40000000       167\n",
       "8000000        155\n",
       "500000         142\n",
       "35000000       141\n",
       "7000000        137\n",
       "50000000       124\n",
       "1500000        120\n",
       "60000000       110\n",
       "18000000       105\n",
       "3500000        103\n",
       "2500000         98\n",
       "13000000        89\n",
       "9000000         87\n",
       "11000000        83\n",
       "14000000        76\n",
       "16000000        75\n",
       "22000000        71\n",
       "             ...  \n",
       "598500           1\n",
       "8620000          1\n",
       "280000000        1\n",
       "1282545          1\n",
       "3730500          1\n",
       "46630000         1\n",
       "10200000         1\n",
       "2640000          1\n",
       "220000000        1\n",
       "5904067          1\n",
       "5860000          1\n",
       "110125           1\n",
       "525000           1\n",
       "3774400          1\n",
       "6153120          1\n",
       "2535000          1\n",
       "884130           1\n",
       "1814462          1\n",
       "7300             1\n",
       "1520000          1\n",
       "230              1\n",
       "3383700          1\n",
       "31192            1\n",
       "916000           1\n",
       "1552334          1\n",
       "439000           1\n",
       "1230000          1\n",
       "23600000         1\n",
       "445000           1\n",
       "176199           1\n",
       "Name: budget, Length: 1219, dtype: int64"
      ]
     },
     "execution_count": 23,
     "metadata": {},
     "output_type": "execute_result"
    }
   ],
   "source": [
    "movies.budget.value_counts()"
   ]
  },
  {
   "cell_type": "code",
   "execution_count": null,
   "metadata": {},
   "outputs": [],
   "source": [
    "import requests as r\n",
    "from bs4 import BeautifulSoup\n",
    "import pandas as pd"
   ]
  },
  {
   "cell_type": "code",
   "execution_count": null,
   "metadata": {},
   "outputs": [],
   "source": [
    "def webscrape(url):\n",
    "    import re\n",
    "    html = r.get(url).content\n",
    "    soup = BeautifulSoup(html, 'lxml')\n",
    "    element = soup.get_text()\n",
    "    revenue = re.findall(r\"Cumulative Worldwide Gross: (.*)        \" ,element)\n",
    "    budget = re.findall(r\"Budget:(.*)\" ,element)\n",
    "    if len(revenue)==0:  # to avoide error when there is no info about revenue or budget\n",
    "        revenue.append('$0')\n",
    "    if len(budget)==0:\n",
    "        budget.append('$0')\n",
    "    return revenue[0],budget[0] # pick the 1st element from the revenue and budget list, \n",
    "#resulting only the element, not inside the list\n",
    "\n",
    "\n",
    "box_office={}\n",
    "count=0\n",
    "for i in movies.imdb_id:\n",
    "    url = f'https://www.imdb.com/title/{i}/'\n",
    "    scrape = webscrape(url)\n",
    "    box_office.update({i:scrape})\n",
    "    count+=1\n",
    "    if count%100==0:\n",
    "        print(i,count)\n",
    "    #revenue[i]=revenue[scrape]\n",
    "    #revenue1.append(revenue)\n",
    "    #revenue.extend(scrape)\n",
    "\n",
    "\n",
    "#Putting the revenue and budget into dataframe (bo)\n",
    "bo = pd.DataFrame(box_office).T\n",
    "bo.reset_index(inplace=True)\n",
    "bo.to_csv('box_office.csv')"
   ]
  },
  {
   "cell_type": "markdown",
   "metadata": {},
   "source": [
    "# Convert release_date into Date Month Year "
   ]
  },
  {
   "cell_type": "code",
   "execution_count": 25,
   "metadata": {},
   "outputs": [],
   "source": [
    "import datetime"
   ]
  },
  {
   "cell_type": "code",
   "execution_count": 26,
   "metadata": {},
   "outputs": [],
   "source": [
    "from datetime import date"
   ]
  },
  {
   "cell_type": "code",
   "execution_count": 27,
   "metadata": {},
   "outputs": [],
   "source": [
    "movies['release_date1']= pd.to_datetime(movies['release_date'].astype(str))"
   ]
  },
  {
   "cell_type": "code",
   "execution_count": 28,
   "metadata": {},
   "outputs": [],
   "source": [
    "movies['Month']=movies['release_date1'].dt.month"
   ]
  },
  {
   "cell_type": "code",
   "execution_count": 29,
   "metadata": {},
   "outputs": [],
   "source": [
    "movies['Year']=movies['release_date1'].dt.month"
   ]
  },
  {
   "cell_type": "code",
   "execution_count": 47,
   "metadata": {
    "collapsed": true
   },
   "outputs": [
    {
     "data": {
      "text/plain": [
       "0        10\n",
       "1        12\n",
       "2        12\n",
       "3        12\n",
       "4         2\n",
       "5        12\n",
       "6        12\n",
       "7        12\n",
       "8        12\n",
       "9        11\n",
       "10       11\n",
       "11       12\n",
       "12       12\n",
       "13       12\n",
       "14       12\n",
       "15       11\n",
       "16       12\n",
       "17       12\n",
       "18       11\n",
       "19       11\n",
       "20       10\n",
       "21       10\n",
       "22       10\n",
       "23       10\n",
       "24       10\n",
       "25       12\n",
       "26       10\n",
       "27        9\n",
       "28        5\n",
       "29        4\n",
       "         ..\n",
       "44319    10\n",
       "44320     3\n",
       "44321     1\n",
       "44322     6\n",
       "44323     4\n",
       "44324     6\n",
       "44325     1\n",
       "44326     3\n",
       "44327     1\n",
       "44328     1\n",
       "44329     1\n",
       "44330     1\n",
       "44331     3\n",
       "44332     1\n",
       "44333     9\n",
       "44334     1\n",
       "44335     1\n",
       "44336     1\n",
       "44337     7\n",
       "44338     1\n",
       "44339     1\n",
       "44340     3\n",
       "44341    10\n",
       "44342    10\n",
       "44343     1\n",
       "44344     5\n",
       "44345    11\n",
       "44346     8\n",
       "44347    10\n",
       "44348     6\n",
       "Name: Month, Length: 44349, dtype: int64"
      ]
     },
     "execution_count": 47,
     "metadata": {},
     "output_type": "execute_result"
    }
   ],
   "source": [
    "movies['Month']"
   ]
  },
  {
   "cell_type": "code",
   "execution_count": null,
   "metadata": {},
   "outputs": [],
   "source": []
  }
 ],
 "metadata": {
  "kernelspec": {
   "display_name": "Python 3",
   "language": "python",
   "name": "python3"
  },
  "language_info": {
   "codemirror_mode": {
    "name": "ipython",
    "version": 3
   },
   "file_extension": ".py",
   "mimetype": "text/x-python",
   "name": "python",
   "nbconvert_exporter": "python",
   "pygments_lexer": "ipython3",
   "version": "3.7.3"
  }
 },
 "nbformat": 4,
 "nbformat_minor": 2
}
