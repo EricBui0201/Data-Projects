{
 "cells": [
  {
   "cell_type": "code",
   "execution_count": 1,
   "metadata": {},
   "outputs": [
    {
     "name": "stderr",
     "output_type": "stream",
     "text": [
      "Using TensorFlow backend.\n"
     ]
    }
   ],
   "source": [
    "import os\n",
    "import numpy as np \n",
    "import pandas as pd\n",
    "import matplotlib.pyplot as plt\n",
    "import seaborn as sns\n",
    "import fnmatch\n",
    "from glob import glob\n",
    "import gc\n",
    "import tensorflow as tf\n",
    "import keras.preprocessing.image\n",
    "%matplotlib inline "
   ]
  },
  {
   "cell_type": "markdown",
   "metadata": {},
   "source": [
    "## Reading pictures"
   ]
  },
  {
   "cell_type": "code",
   "execution_count": 1,
   "metadata": {},
   "outputs": [],
   "source": [
    "import cv2"
   ]
  },
  {
   "cell_type": "code",
   "execution_count": 2,
   "metadata": {},
   "outputs": [],
   "source": [
    "from os import listdir"
   ]
  },
  {
   "cell_type": "code",
   "execution_count": 4,
   "metadata": {
    "collapsed": true
   },
   "outputs": [
    {
     "data": {
      "text/plain": [
       "['9036',\n",
       " '10268',\n",
       " '10257',\n",
       " '8913',\n",
       " '13613',\n",
       " '8914',\n",
       " '15510',\n",
       " '10259',\n",
       " '16165',\n",
       " '10292',\n",
       " '12951',\n",
       " '10261',\n",
       " '10295',\n",
       " '9259',\n",
       " '12750',\n",
       " '13020',\n",
       " '16552',\n",
       " '12905',\n",
       " '9266',\n",
       " '16555',\n",
       " '13018',\n",
       " '9261',\n",
       " '9257',\n",
       " '12934',\n",
       " '12933',\n",
       " '9250',\n",
       " '10260',\n",
       " '10258',\n",
       " '10293',\n",
       " '9037',\n",
       " '10269',\n",
       " '16531',\n",
       " '10256',\n",
       " '15516',\n",
       " '12932',\n",
       " '12935',\n",
       " '9256',\n",
       " '16554',\n",
       " '9260',\n",
       " '13019',\n",
       " '16553',\n",
       " '13021',\n",
       " '8984',\n",
       " '9258',\n",
       " '12751',\n",
       " '9267',\n",
       " '12876',\n",
       " '12882',\n",
       " '15634',\n",
       " '12871',\n",
       " '14188',\n",
       " '15633',\n",
       " '9324',\n",
       " '12878',\n",
       " '.DS_Store',\n",
       " '9323',\n",
       " '9383',\n",
       " '8867',\n",
       " '9346',\n",
       " '9174',\n",
       " '12822',\n",
       " '9173',\n",
       " '9322',\n",
       " '9325',\n",
       " '12879',\n",
       " '14189',\n",
       " '12870',\n",
       " '12884',\n",
       " '12241',\n",
       " '15632',\n",
       " '12883',\n",
       " '12877',\n",
       " '9126',\n",
       " '13106',\n",
       " '12823',\n",
       " '13591',\n",
       " '9175',\n",
       " '12824',\n",
       " '9347',\n",
       " '9181',\n",
       " '9382',\n",
       " '10307',\n",
       " '13916',\n",
       " '10300',\n",
       " '14306',\n",
       " '15471',\n",
       " '16896',\n",
       " '14156',\n",
       " '9135',\n",
       " '12890',\n",
       " '12897',\n",
       " '10308',\n",
       " '10301',\n",
       " '10306',\n",
       " '12896',\n",
       " '14157',\n",
       " '12891',\n",
       " '12898',\n",
       " '14192',\n",
       " '13458',\n",
       " '9083',\n",
       " '9077',\n",
       " '13460',\n",
       " '8955',\n",
       " '12910',\n",
       " '9041',\n",
       " '14210',\n",
       " '14082',\n",
       " '10274',\n",
       " '9227',\n",
       " '10273',\n",
       " '13402',\n",
       " '14078',\n",
       " '9023',\n",
       " '12911',\n",
       " '14211',\n",
       " '13691',\n",
       " '9078',\n",
       " '12929',\n",
       " '13461',\n",
       " '9076',\n",
       " '13459',\n",
       " '16570',\n",
       " '9022',\n",
       " '10288',\n",
       " '9228',\n",
       " '14079',\n",
       " '10286',\n",
       " '13403',\n",
       " '10272',\n",
       " '10275',\n",
       " '13404',\n",
       " '9226',\n",
       " '13024',\n",
       " '8975',\n",
       " '16569',\n",
       " '12901',\n",
       " '9262',\n",
       " '13023',\n",
       " '16551',\n",
       " '9265',\n",
       " '12906',\n",
       " '9291',\n",
       " '12930',\n",
       " '13688',\n",
       " '12908',\n",
       " '9254',\n",
       " '16534',\n",
       " '8917',\n",
       " '15513',\n",
       " '10253',\n",
       " '9035',\n",
       " '10254',\n",
       " '15514',\n",
       " '16533',\n",
       " '13617',\n",
       " '10262',\n",
       " '12955',\n",
       " '16166',\n",
       " '10291',\n",
       " '12909',\n",
       " '9255',\n",
       " '14209',\n",
       " '12931',\n",
       " '13689',\n",
       " '16550',\n",
       " '13022',\n",
       " '12752',\n",
       " '9290',\n",
       " '12907',\n",
       " '13687',\n",
       " '8980',\n",
       " '8974',\n",
       " '13025',\n",
       " '12900',\n",
       " '16568',\n",
       " '12954',\n",
       " '10264',\n",
       " '16167',\n",
       " '10290',\n",
       " '8918',\n",
       " '16532',\n",
       " '13616',\n",
       " '15515',\n",
       " '10255',\n",
       " '10299',\n",
       " '15512',\n",
       " '8916',\n",
       " '8864',\n",
       " '12810',\n",
       " '8863',\n",
       " '12817',\n",
       " '14321',\n",
       " '12821',\n",
       " '12819',\n",
       " '12826',\n",
       " '9177',\n",
       " '9345',\n",
       " '12886',\n",
       " '9123',\n",
       " '12872',\n",
       " '9124',\n",
       " '12875',\n",
       " '12881',\n",
       " '9320',\n",
       " '12818',\n",
       " '16014',\n",
       " '9344',\n",
       " '9176',\n",
       " '12820',\n",
       " '9178',\n",
       " '9381',\n",
       " '15839',\n",
       " '8865',\n",
       " '12811',\n",
       " '9319',\n",
       " '9321',\n",
       " '16085',\n",
       " '12880',\n",
       " '9125',\n",
       " '12873',\n",
       " '12242',\n",
       " '12626',\n",
       " '16895',\n",
       " '14190',\n",
       " '12869',\n",
       " '12894',\n",
       " '14155',\n",
       " '12867',\n",
       " '12893',\n",
       " '10303',\n",
       " '10304',\n",
       " '15472',\n",
       " '14305',\n",
       " '14154',\n",
       " '12892',\n",
       " '14153',\n",
       " '12895',\n",
       " '12868',\n",
       " '14191',\n",
       " '15840',\n",
       " '14304',\n",
       " '15473',\n",
       " '10305',\n",
       " '10302',\n",
       " '13401',\n",
       " '14081',\n",
       " '9029',\n",
       " '10277',\n",
       " '12947',\n",
       " '12949',\n",
       " '10279',\n",
       " '12748',\n",
       " '9073',\n",
       " '8956',\n",
       " '8951',\n",
       " '14213',\n",
       " '13694',\n",
       " '15903',\n",
       " '13693',\n",
       " '12948',\n",
       " '10278',\n",
       " '10276',\n",
       " '10282',\n",
       " '9225',\n",
       " '10285',\n",
       " '13400',\n",
       " '15902',\n",
       " '9044',\n",
       " '13666',\n",
       " '13692',\n",
       " '9043',\n",
       " '8959',\n",
       " '14212',\n",
       " '9075',\n",
       " '9081',\n",
       " '8950',\n",
       " '12749',\n",
       " '13462',\n",
       " '8957']"
      ]
     },
     "execution_count": 4,
     "metadata": {},
     "output_type": "execute_result"
    }
   ],
   "source": [
    "listdir('/Users/linhdao/Ironhack/data-labs/Weekly Projects/Week 7/IDC_regular_ps50_idx5')"
   ]
  },
  {
   "cell_type": "code",
   "execution_count": 6,
   "metadata": {},
   "outputs": [],
   "source": [
    "imagePatches = glob('/Users/linhdao/Ironhack/data-labs/Weekly Projects/Week 7/IDC_regular_ps50_idx5/**/*.png', recursive=True)"
   ]
  },
  {
   "cell_type": "code",
   "execution_count": 7,
   "metadata": {},
   "outputs": [],
   "source": [
    "patternZero = '*class0.png'\n",
    "patternOne = '*class1.png'\n",
    "classZero = fnmatch.filter(imagePatches, patternZero)\n",
    "classOne = fnmatch.filter(imagePatches, patternOne)"
   ]
  },
  {
   "cell_type": "code",
   "execution_count": 8,
   "metadata": {},
   "outputs": [
    {
     "data": {
      "text/plain": [
       "198738"
      ]
     },
     "execution_count": 8,
     "metadata": {},
     "output_type": "execute_result"
    }
   ],
   "source": [
    "len(classZero)"
   ]
  },
  {
   "cell_type": "code",
   "execution_count": 9,
   "metadata": {},
   "outputs": [
    {
     "data": {
      "text/plain": [
       "78786"
      ]
     },
     "execution_count": 9,
     "metadata": {},
     "output_type": "execute_result"
    }
   ],
   "source": [
    "len(classOne)"
   ]
  },
  {
   "cell_type": "code",
   "execution_count": 10,
   "metadata": {},
   "outputs": [
    {
     "data": {
      "text/plain": [
       "277524"
      ]
     },
     "execution_count": 10,
     "metadata": {},
     "output_type": "execute_result"
    }
   ],
   "source": [
    "len(imagePatches)"
   ]
  },
  {
   "cell_type": "markdown",
   "metadata": {},
   "source": [
    "## TRANSFORMING ALL PICTURES INTO ARRAY"
   ]
  },
  {
   "cell_type": "code",
   "execution_count": 11,
   "metadata": {},
   "outputs": [],
   "source": [
    "image = cv2.imread('/Users/linhdao/Ironhack/data-labs/Weekly Projects/Week 7/IDC_regular_ps50_idx5/9036/0/9036_idx5_x1251_y1101_class0.png')#, gray_scale=True)"
   ]
  },
  {
   "cell_type": "code",
   "execution_count": 13,
   "metadata": {
    "scrolled": true
   },
   "outputs": [
    {
     "data": {
      "text/plain": [
       "<matplotlib.image.AxesImage at 0x1a3fa97630>"
      ]
     },
     "execution_count": 13,
     "metadata": {},
     "output_type": "execute_result"
    },
    {
     "data": {
      "image/png": "[encoded data removed]",
      "text/plain": [
       "<Figure size 432x288 with 1 Axes>"
      ]
     },
     "metadata": {
      "needs_background": "light"
     },
     "output_type": "display_data"
    }
   ],
   "source": [
    "plt.imshow(image)"
   ]
  },
  {
   "cell_type": "code",
   "execution_count": 14,
   "metadata": {},
   "outputs": [],
   "source": [
    "# Getting images in class 0 in array:\n",
    "X_0 = []\n",
    "y_0 = []\n",
    "WIDTH = 50\n",
    "HEIGHT = 50\n",
    "for img in classZero:\n",
    "    image = cv2.imread(img)\n",
    "    #image = cv2.cvtColor(image, cv2.COLOR_BGR2GRAY)\n",
    "    X_0.append(cv2.resize(image, (WIDTH,HEIGHT), interpolation=cv2.INTER_CUBIC))\n",
    "    y_0.append(0)"
   ]
  },
  {
   "cell_type": "code",
   "execution_count": 15,
   "metadata": {},
   "outputs": [],
   "source": [
    "X_1 = []\n",
    "y_1 = []\n",
    "WIDTH = 50\n",
    "HEIGHT = 50\n",
    "for img in classOne:\n",
    "    image = cv2.imread(img)\n",
    "    #image = cv2.cvtColor(image, cv2.COLOR_BGR2GRAY)\n",
    "    X_1.append(cv2.resize(image, (WIDTH,HEIGHT), interpolation=cv2.INTER_CUBIC))\n",
    "    y_1.append(1)"
   ]
  },
  {
   "cell_type": "code",
   "execution_count": 16,
   "metadata": {},
   "outputs": [],
   "source": [
    "X1 = np.array(X_1)\n",
    "X0 = np.array(X_0)\n",
    "y0 = np.array(y_0)\n",
    "y1 = np.array(y_1)"
   ]
  },
  {
   "cell_type": "code",
   "execution_count": 17,
   "metadata": {},
   "outputs": [],
   "source": [
    "X = np.concatenate((X1, X0))"
   ]
  },
  {
   "cell_type": "code",
   "execution_count": 23,
   "metadata": {},
   "outputs": [],
   "source": [
    "y = np.concatenate((y1,y0))"
   ]
  },
  {
   "cell_type": "markdown",
   "metadata": {},
   "source": [
    "# Visualization"
   ]
  },
  {
   "cell_type": "code",
   "execution_count": 245,
   "metadata": {},
   "outputs": [],
   "source": [
    "def plotHistogram_1(a):\n",
    "    plt.figure(figsize=(10,5))\n",
    "    plt.subplot(1,2,1)\n",
    "    plt.imshow(a)\n",
    "    plt.axis('off')\n",
    "    plt.title('IDC(+)' if y[1] else 'IDC(-)')\n",
    "    histo = plt.subplot(1,2,2)\n",
    "    histo.set_ylabel('Count')\n",
    "    histo.set_xlabel('Pixel Intensity')\n",
    "    n_bins = 30\n",
    "    plt.hist(a[:,0].flatten(), bins= n_bins, lw = 0, color='r', alpha=0.5);\n",
    "    plt.hist(a[:,1].flatten(), bins= n_bins, lw = 0, color='g', alpha=0.5);\n",
    "    plt.hist(a[:,2].flatten(), bins= n_bins, lw = 0, color='b', alpha=0.5);"
   ]
  },
  {
   "cell_type": "code",
   "execution_count": 246,
   "metadata": {},
   "outputs": [
    {
     "data": {
      "image/png": "[encoded data removed]",
      "text/plain": [
       "<Figure size 720x360 with 2 Axes>"
      ]
     },
     "metadata": {
      "needs_background": "light"
     },
     "output_type": "display_data"
    }
   ],
   "source": [
    "plotHistogram_1(X[1])"
   ]
  },
  {
   "cell_type": "code",
   "execution_count": 36,
   "metadata": {},
   "outputs": [
    {
     "data": {
      "text/plain": [
       "(50, 50, 3)"
      ]
     },
     "execution_count": 36,
     "metadata": {},
     "output_type": "execute_result"
    }
   ],
   "source": [
    "X[20].shape"
   ]
  },
  {
   "cell_type": "code",
   "execution_count": 289,
   "metadata": {},
   "outputs": [],
   "source": [
    "def plotHistogram(a):\n",
    "    \"\"\"\n",
    "    Plot histogram of RGB Pixel Intensities\n",
    "    \"\"\"\n",
    "    x=0\n",
    "    plt.figure(figsize=(15,5*len(a)))\n",
    "    for i in range(len(a)): \n",
    "        plt.subplot(len(a),2,x+1)\n",
    "        plt.imshow(a[i])\n",
    "        plt.axis('off')\n",
    "        x +=1\n",
    "        plt.title('IDC(+)' if y[i] == 1 else 'IDC(-)')\n",
    "        histo = plt.subplot(len(a),2,x+1)\n",
    "        histo.set_ylabel('Count')\n",
    "        histo.set_xlabel('Pixel Intensity')\n",
    "        n_bins = 30\n",
    "        plt.hist(a[i][:,0].flatten(), bins= n_bins, lw = 0, color='r', alpha=0.5)\n",
    "        x+=1"
   ]
  },
  {
   "cell_type": "code",
   "execution_count": 272,
   "metadata": {},
   "outputs": [],
   "source": [
    "def plotHistogram(a):\n",
    "    \"\"\"\n",
    "    Plot histogram of RGB Pixel Intensities\n",
    "    \"\"\"\n",
    "    x=0\n",
    "    plt.figure(figsize=(15,5*len(a)))\n",
    "    for j in a: \n",
    "        for i in range(len(a)): \n",
    "            plt.subplot(len(a),2,x+1)\n",
    "            plt.imshow(a[i])\n",
    "            plt.axis('off')\n",
    "            x +=1\n",
    "            plt.title('IDC(+)' if y[a.index(j)] == 1 else 'IDC(-)')\n",
    "            histo = plt.subplot(len(a),2,x+1)\n",
    "            histo.set_ylabel('Count')\n",
    "            histo.set_xlabel('Pixel Intensity')\n",
    "            n_bins = 30\n",
    "            plt.hist(a[i][:,0].flatten(), bins= n_bins, lw = 0, color='r', alpha=0.5)\n",
    "    \n",
    "            x+=1"
   ]
  },
  {
   "cell_type": "code",
   "execution_count": 20,
   "metadata": {},
   "outputs": [
    {
     "data": {
      "image/png": "[encoded data removed]",
      "text/plain": [
       "<Figure size 720x720 with 16 Axes>"
      ]
     },
     "metadata": {
      "needs_background": "light"
     },
     "output_type": "display_data"
    }
   ],
   "source": [
    "x = 0\n",
    "plt.figure(figsize=(10,10))\n",
    "for i in X[1:17]:\n",
    "    plt.subplot(4,4,x+1)\n",
    "    plt.hist(i.ravel()) # Flatten the numpy array\n",
    "    plt.xlabel('Pixel Values')\n",
    "    plt.ylabel('Intensity')\n",
    "    x +=1"
   ]
  },
  {
   "cell_type": "code",
   "execution_count": 51,
   "metadata": {},
   "outputs": [],
   "source": [
    "df = pd.DataFrame()"
   ]
  },
  {
   "cell_type": "code",
   "execution_count": 52,
   "metadata": {},
   "outputs": [],
   "source": [
    "df['label'] = y"
   ]
  },
  {
   "cell_type": "code",
   "execution_count": 53,
   "metadata": {
    "scrolled": true
   },
   "outputs": [
    {
     "data": {
      "text/plain": [
       "<matplotlib.axes._subplots.AxesSubplot at 0x1b92e455c0>"
      ]
     },
     "execution_count": 53,
     "metadata": {},
     "output_type": "execute_result"
    },
    {
     "data": {
      "image/png": "[encoded data removed]",
      "text/plain": [
       "<Figure size 432x288 with 1 Axes>"
      ]
     },
     "metadata": {
      "needs_background": "light"
     },
     "output_type": "display_data"
    }
   ],
   "source": [
    "lab = df['label']\n",
    "dist = lab.value_counts()\n",
    "sns.countplot(lab)"
   ]
  },
  {
   "cell_type": "markdown",
   "metadata": {},
   "source": [
    "### -> Data is highly unbalanced"
   ]
  },
  {
   "cell_type": "markdown",
   "metadata": {},
   "source": [
    "# Train test validation spliting"
   ]
  },
  {
   "cell_type": "code",
   "execution_count": 24,
   "metadata": {},
   "outputs": [],
   "source": [
    "from sklearn.model_selection import train_test_split"
   ]
  },
  {
   "cell_type": "code",
   "execution_count": 25,
   "metadata": {},
   "outputs": [
    {
     "data": {
      "text/plain": [
       "(277524, 50, 50, 3)"
      ]
     },
     "execution_count": 25,
     "metadata": {},
     "output_type": "execute_result"
    }
   ],
   "source": [
    "X.shape"
   ]
  },
  {
   "cell_type": "code",
   "execution_count": 26,
   "metadata": {},
   "outputs": [],
   "source": [
    "X_train, X_test, y_train, y_test = train_test_split(\n",
    "    X, y, test_size=0.3, random_state=1)\n",
    "X_test, X_val, y_test, y_val = train_test_split(\n",
    "    X_test, y_test, test_size=1/3, random_state=1)"
   ]
  },
  {
   "cell_type": "code",
   "execution_count": 27,
   "metadata": {},
   "outputs": [
    {
     "data": {
      "text/plain": [
       "(194266, 50, 50, 3)"
      ]
     },
     "execution_count": 27,
     "metadata": {},
     "output_type": "execute_result"
    }
   ],
   "source": [
    "X_train.shape"
   ]
  },
  {
   "cell_type": "code",
   "execution_count": 28,
   "metadata": {},
   "outputs": [
    {
     "data": {
      "text/plain": [
       "(55505, 50, 50, 3)"
      ]
     },
     "execution_count": 28,
     "metadata": {},
     "output_type": "execute_result"
    }
   ],
   "source": [
    "X_test.shape"
   ]
  },
  {
   "cell_type": "code",
   "execution_count": 29,
   "metadata": {
    "scrolled": true
   },
   "outputs": [
    {
     "data": {
      "text/plain": [
       "(27753, 50, 50, 3)"
      ]
     },
     "execution_count": 29,
     "metadata": {},
     "output_type": "execute_result"
    }
   ],
   "source": [
    "X_val.shape"
   ]
  },
  {
   "cell_type": "markdown",
   "metadata": {},
   "source": [
    "# Modelling with Keras"
   ]
  },
  {
   "cell_type": "code",
   "execution_count": 54,
   "metadata": {},
   "outputs": [],
   "source": [
    "from keras.models import Sequential\n",
    "from keras.layers import Dense, Dropout, Activation, Flatten\n",
    "from keras.layers import Conv2D, MaxPooling2D\n",
    "from keras.utils import np_utils\n",
    "from keras.callbacks import ModelCheckpoint"
   ]
  },
  {
   "cell_type": "code",
   "execution_count": 32,
   "metadata": {},
   "outputs": [],
   "source": [
    "Y_train = np_utils.to_categorical(y_train, 2)\n",
    "Y_val = np_utils.to_categorical(y_val, 2)\n",
    "Y_test = np_utils.to_categorical(y_test, 2)"
   ]
  },
  {
   "cell_type": "code",
   "execution_count": 35,
   "metadata": {},
   "outputs": [],
   "source": [
    "#Model definition: let keras know that we will arrange layers on top of each other \n",
    "model1 = Sequential()\n",
    "\n",
    "# Add 1st layer\n",
    "model1.add(Conv2D(32,(3, 3), activation='relu', input_shape=(50,50,3), strides=2))\n",
    "model1.add(MaxPooling2D(pool_size=(2, 2)))\n",
    "model1.add(Dropout(0.25))\n",
    "\n",
    "#Add 2nd layer\n",
    "model1.add(Conv2D(64, (3, 3), activation='relu'))\n",
    "model1.add(MaxPooling2D(pool_size=(2, 2)))\n",
    "model1.add(Dropout(0.25))\n",
    "\n",
    "# Flatten\n",
    "model1.add(Flatten())\n",
    "\n",
    "# Full connection\n",
    "model1.add(Dense(128, activation='relu'))\n",
    "model1.add(Dropout(0.5))\n",
    "model1.add(Dense(2, activation='softmax'))\n",
    "\n",
    "# Compiling the CNN\n",
    "model1.compile(loss=keras.losses.categorical_crossentropy,\n",
    "                  optimizer=keras.optimizers.Adadelta(),\n",
    "                  metrics=['accuracy'])\n",
    "# Choose the best number of epochs\n",
    "checkpointer = ModelCheckpoint(filepath=\"best_weights.hdf5\", \n",
    "                               monitor = 'val_accuracy',\n",
    "                               verbose=1, \n",
    "                               save_best_only=True)"
   ]
  },
  {
   "cell_type": "code",
   "execution_count": 36,
   "metadata": {
    "scrolled": false
   },
   "outputs": [
    {
     "name": "stdout",
     "output_type": "stream",
     "text": [
      "WARNING:tensorflow:From /anaconda3/anaconda3/lib/python3.7/site-packages/keras/backend/tensorflow_backend.py:422: The name tf.global_variables is deprecated. Please use tf.compat.v1.global_variables instead.\n",
      "\n",
      "Train on 194266 samples, validate on 27753 samples\n",
      "Epoch 1/20\n",
      "194266/194266 [==============================] - 101s 521us/step - loss: 1.1084 - accuracy: 0.7277 - val_loss: 0.5877 - val_accuracy: 0.6938\n",
      "\n",
      "Epoch 00001: val_accuracy improved from -inf to 0.69376, saving model to best_weights.hdf5\n",
      "Epoch 2/20\n",
      "194266/194266 [==============================] - 82s 422us/step - loss: 0.4549 - accuracy: 0.7942 - val_loss: 0.5342 - val_accuracy: 0.7975\n",
      "\n",
      "Epoch 00002: val_accuracy improved from 0.69376 to 0.79750, saving model to best_weights.hdf5\n",
      "Epoch 3/20\n",
      "194266/194266 [==============================] - 72s 370us/step - loss: 0.4257 - accuracy: 0.8132 - val_loss: 0.4541 - val_accuracy: 0.8339\n",
      "\n",
      "Epoch 00003: val_accuracy improved from 0.79750 to 0.83389, saving model to best_weights.hdf5\n",
      "Epoch 4/20\n",
      "194266/194266 [==============================] - 90s 462us/step - loss: 0.4131 - accuracy: 0.8220 - val_loss: 0.4665 - val_accuracy: 0.8322\n",
      "\n",
      "Epoch 00004: val_accuracy did not improve from 0.83389\n",
      "Epoch 5/20\n",
      "194266/194266 [==============================] - 89s 457us/step - loss: 0.4028 - accuracy: 0.8259 - val_loss: 0.4473 - val_accuracy: 0.8176\n",
      "\n",
      "Epoch 00005: val_accuracy did not improve from 0.83389\n",
      "Epoch 6/20\n",
      "194266/194266 [==============================] - 77s 397us/step - loss: 0.3985 - accuracy: 0.8297 - val_loss: 0.3983 - val_accuracy: 0.8420\n",
      "\n",
      "Epoch 00006: val_accuracy improved from 0.83389 to 0.84204, saving model to best_weights.hdf5\n",
      "Epoch 7/20\n",
      "194266/194266 [==============================] - 75s 386us/step - loss: 0.3923 - accuracy: 0.8340 - val_loss: 0.3982 - val_accuracy: 0.8399\n",
      "\n",
      "Epoch 00007: val_accuracy did not improve from 0.84204\n",
      "Epoch 8/20\n",
      "194266/194266 [==============================] - 69s 354us/step - loss: 0.3889 - accuracy: 0.8355 - val_loss: 0.4186 - val_accuracy: 0.8403\n",
      "\n",
      "Epoch 00008: val_accuracy did not improve from 0.84204\n",
      "Epoch 9/20\n",
      "194266/194266 [==============================] - 67s 345us/step - loss: 0.3807 - accuracy: 0.8384 - val_loss: 0.3883 - val_accuracy: 0.8374\n",
      "\n",
      "Epoch 00009: val_accuracy did not improve from 0.84204\n",
      "Epoch 10/20\n",
      "194266/194266 [==============================] - 75s 386us/step - loss: 0.3796 - accuracy: 0.8390 - val_loss: 0.3798 - val_accuracy: 0.8477\n",
      "\n",
      "Epoch 00010: val_accuracy improved from 0.84204 to 0.84769, saving model to best_weights.hdf5\n",
      "Epoch 11/20\n",
      "194266/194266 [==============================] - 97s 499us/step - loss: 0.3755 - accuracy: 0.8415 - val_loss: 0.4171 - val_accuracy: 0.8458\n",
      "\n",
      "Epoch 00011: val_accuracy did not improve from 0.84769\n",
      "Epoch 12/20\n",
      "194266/194266 [==============================] - 71s 365us/step - loss: 0.3756 - accuracy: 0.8417 - val_loss: 0.3844 - val_accuracy: 0.8431\n",
      "\n",
      "Epoch 00012: val_accuracy did not improve from 0.84769\n",
      "Epoch 13/20\n",
      "194266/194266 [==============================] - 70s 360us/step - loss: 0.3726 - accuracy: 0.8424 - val_loss: 0.3869 - val_accuracy: 0.8312\n",
      "\n",
      "Epoch 00013: val_accuracy did not improve from 0.84769\n",
      "Epoch 14/20\n",
      "194266/194266 [==============================] - 71s 364us/step - loss: 0.3711 - accuracy: 0.8428 - val_loss: 0.3621 - val_accuracy: 0.8469\n",
      "\n",
      "Epoch 00014: val_accuracy did not improve from 0.84769\n",
      "Epoch 15/20\n",
      "194266/194266 [==============================] - 91s 471us/step - loss: 0.3698 - accuracy: 0.8439 - val_loss: 0.3534 - val_accuracy: 0.8521\n",
      "\n",
      "Epoch 00015: val_accuracy improved from 0.84769 to 0.85212, saving model to best_weights.hdf5\n",
      "Epoch 16/20\n",
      "194266/194266 [==============================] - 70s 359us/step - loss: 0.3676 - accuracy: 0.8453 - val_loss: 0.3967 - val_accuracy: 0.8513\n",
      "\n",
      "Epoch 00016: val_accuracy did not improve from 0.85212\n",
      "Epoch 17/20\n",
      "194266/194266 [==============================] - 85s 439us/step - loss: 0.3670 - accuracy: 0.8458 - val_loss: 0.3654 - val_accuracy: 0.8510\n",
      "\n",
      "Epoch 00017: val_accuracy did not improve from 0.85212\n",
      "Epoch 18/20\n",
      "194266/194266 [==============================] - 86s 442us/step - loss: 0.3646 - accuracy: 0.8470 - val_loss: 0.3704 - val_accuracy: 0.8525\n",
      "\n",
      "Epoch 00018: val_accuracy improved from 0.85212 to 0.85252, saving model to best_weights.hdf5\n",
      "Epoch 19/20\n",
      "194266/194266 [==============================] - 74s 380us/step - loss: 0.3627 - accuracy: 0.8465 - val_loss: 0.3552 - val_accuracy: 0.8548\n",
      "\n",
      "Epoch 00019: val_accuracy improved from 0.85252 to 0.85475, saving model to best_weights.hdf5\n",
      "Epoch 20/20\n",
      "194266/194266 [==============================] - 76s 393us/step - loss: 0.3634 - accuracy: 0.8473 - val_loss: 0.4043 - val_accuracy: 0.8401\n",
      "\n",
      "Epoch 00020: val_accuracy did not improve from 0.85475\n"
     ]
    }
   ],
   "source": [
    "H2 = model1.fit(X_train, Y_train , validation_data=(X_val, Y_val),\n",
    "          batch_size=300, epochs=20, verbose=1, callbacks=[checkpointer])"
   ]
  },
  {
   "cell_type": "code",
   "execution_count": 37,
   "metadata": {
    "scrolled": false
   },
   "outputs": [
    {
     "name": "stdout",
     "output_type": "stream",
     "text": [
      "Model: \"sequential_2\"\n",
      "_________________________________________________________________\n",
      "Layer (type)                 Output Shape              Param #   \n",
      "=================================================================\n",
      "conv2d_3 (Conv2D)            (None, 24, 24, 32)        896       \n",
      "_________________________________________________________________\n",
      "max_pooling2d_3 (MaxPooling2 (None, 12, 12, 32)        0         \n",
      "_________________________________________________________________\n",
      "dropout_4 (Dropout)          (None, 12, 12, 32)        0         \n",
      "_________________________________________________________________\n",
      "conv2d_4 (Conv2D)            (None, 10, 10, 64)        18496     \n",
      "_________________________________________________________________\n",
      "max_pooling2d_4 (MaxPooling2 (None, 5, 5, 64)          0         \n",
      "_________________________________________________________________\n",
      "dropout_5 (Dropout)          (None, 5, 5, 64)          0         \n",
      "_________________________________________________________________\n",
      "flatten_2 (Flatten)          (None, 1600)              0         \n",
      "_________________________________________________________________\n",
      "dense_3 (Dense)              (None, 128)               204928    \n",
      "_________________________________________________________________\n",
      "dropout_6 (Dropout)          (None, 128)               0         \n",
      "_________________________________________________________________\n",
      "dense_4 (Dense)              (None, 2)                 258       \n",
      "=================================================================\n",
      "Total params: 224,578\n",
      "Trainable params: 224,578\n",
      "Non-trainable params: 0\n",
      "_________________________________________________________________\n"
     ]
    }
   ],
   "source": [
    "model1.summary()"
   ]
  },
  {
   "cell_type": "code",
   "execution_count": 38,
   "metadata": {},
   "outputs": [
    {
     "data": {
      "image/png": "[encoded data removed]",
      "text/plain": [
       "<Figure size 432x288 with 1 Axes>"
      ]
     },
     "metadata": {
      "needs_background": "light"
     },
     "output_type": "display_data"
    },
    {
     "data": {
      "image/png": "[encoded data removed]",
      "text/plain": [
       "<Figure size 432x288 with 1 Axes>"
      ]
     },
     "metadata": {
      "needs_background": "light"
     },
     "output_type": "display_data"
    }
   ],
   "source": [
    "acc = H2.history['accuracy']\n",
    "val_acc = H2.history['val_accuracy']\n",
    "loss = H2.history['loss']\n",
    "val_loss = H2.history['val_loss']\n",
    "\n",
    "epochs = range(1, len(acc) + 1)\n",
    "\n",
    "plt.plot(epochs, acc, 'b', label='Training acc')\n",
    "plt.plot(epochs, val_acc, 'bo', label='Validation acc')\n",
    "plt.title('Training and validation accuracy')\n",
    "plt.legend()\n",
    "\n",
    "plt.figure()\n",
    "\n",
    "plt.plot(epochs, loss, 'b', label='Training loss')\n",
    "plt.plot(epochs, val_loss, 'bo', label='Validation loss')\n",
    "plt.title('Training and validation loss')\n",
    "plt.legend()\n",
    "\n",
    "plt.show()"
   ]
  },
  {
   "cell_type": "code",
   "execution_count": 39,
   "metadata": {},
   "outputs": [],
   "source": [
    "model1.load_weights('best_weights.hdf5')"
   ]
  },
  {
   "cell_type": "code",
   "execution_count": 40,
   "metadata": {},
   "outputs": [],
   "source": [
    "model1.save('cancer_accuracy.h5')"
   ]
  },
  {
   "cell_type": "markdown",
   "metadata": {},
   "source": [
    "## Model evaluation"
   ]
  },
  {
   "cell_type": "code",
   "execution_count": 902,
   "metadata": {},
   "outputs": [],
   "source": [
    "from sklearn.metrics import confusion_matrix, precision_score, f1_score, recall_score"
   ]
  },
  {
   "cell_type": "markdown",
   "metadata": {},
   "source": [
    "### with test"
   ]
  },
  {
   "cell_type": "code",
   "execution_count": 903,
   "metadata": {},
   "outputs": [],
   "source": [
    "y_pred_test = model1.predict(X_test)"
   ]
  },
  {
   "cell_type": "code",
   "execution_count": 982,
   "metadata": {},
   "outputs": [],
   "source": [
    "THRESHOLD = 0.45\n",
    "y_pred_test = np.round(y_pred, 2)\n",
    "y_pred_test1 = np.where(y_pred_test>THRESHOLD,1,0)[:,1] #take all the columns, rows =1\n",
    "cm_test = confusion_matrix(y_test, y_pred_test1)"
   ]
  },
  {
   "cell_type": "code",
   "execution_count": 983,
   "metadata": {
    "scrolled": true
   },
   "outputs": [
    {
     "data": {
      "text/plain": [
       "array([[34452,  5224],\n",
       "       [ 3177, 12652]])"
      ]
     },
     "execution_count": 983,
     "metadata": {},
     "output_type": "execute_result"
    }
   ],
   "source": [
    "cm_test"
   ]
  },
  {
   "cell_type": "code",
   "execution_count": 986,
   "metadata": {},
   "outputs": [
    {
     "data": {
      "image/png": "[encoded data removed]",
      "text/plain": [
       "<Figure size 720x720 with 2 Axes>"
      ]
     },
     "metadata": {
      "needs_background": "light"
     },
     "output_type": "display_data"
    }
   ],
   "source": [
    "import seaborn as sns\n",
    "    \n",
    "plt.figure(figsize=(10,10))\n",
    "ax= plt.subplot()\n",
    "sns.heatmap(cm_test, annot=True, ax = ax); #annot=True to annotate cells\n",
    "\n",
    "# labels, title and ticks\n",
    "ax.set_xlabel('Predicted labels');ax.set_ylabel('True labels'); \n",
    "ax.set_title('Confusion Matrix'); \n",
    "ax.xaxis.set_ticklabels(['No cancer', 'Cancer']); ax.yaxis.set_ticklabels(['No Cancer', 'Cancer']);"
   ]
  },
  {
   "cell_type": "code",
   "execution_count": 918,
   "metadata": {},
   "outputs": [
    {
     "name": "stdout",
     "output_type": "stream",
     "text": [
      "f1 score (test): 0.7507491470108292\n",
      "precision score (test): 0.7077646005817856\n",
      "recall score (test): 0.799292437930381\n"
     ]
    }
   ],
   "source": [
    "print(f'f1 score (test): {f1_score(y_test,  y_pred_test1)}')\n",
    "print(f'precision score (test): {precision_score(y_test,  y_pred_test1)}')\n",
    "print(f'recall score (test): {recall_score(y_test,  y_pred_test1)}')"
   ]
  },
  {
   "cell_type": "markdown",
   "metadata": {},
   "source": [
    "### with train"
   ]
  },
  {
   "cell_type": "code",
   "execution_count": 907,
   "metadata": {},
   "outputs": [],
   "source": [
    "y_pred_train = model1.predict(X_train)"
   ]
  },
  {
   "cell_type": "code",
   "execution_count": 1056,
   "metadata": {},
   "outputs": [],
   "source": [
    "THRESHOLD = 0.45\n",
    "y_pred_train1 = np.round(y_pred_train, 2)\n",
    "y_pred_train1 = np.where(y_pred_train1>THRESHOLD,1,0)[:,1] #take all the columns, rows =1\n",
    "cm_train = confusion_matrix(y_train, y_pred_train1)"
   ]
  },
  {
   "cell_type": "code",
   "execution_count": 1057,
   "metadata": {},
   "outputs": [
    {
     "data": {
      "image/png": "[encoded data removed]",
      "text/plain": [
       "<Figure size 720x720 with 2 Axes>"
      ]
     },
     "metadata": {
      "needs_background": "light"
     },
     "output_type": "display_data"
    }
   ],
   "source": [
    "plt.figure(figsize=(10,10))\n",
    "ax= plt.subplot()\n",
    "sns.heatmap(cm_train, annot=True, ax = ax); #annot=True to annotate cells\n",
    "\n",
    "# labels, title and ticks\n",
    "ax.set_xlabel('Predicted labels');ax.set_ylabel('True labels'); \n",
    "ax.set_title('Confusion Matrix'); \n",
    "ax.xaxis.set_ticklabels(['No cancer', 'Cancer']); ax.yaxis.set_ticklabels(['No Cancer', 'Cancer']);"
   ]
  },
  {
   "cell_type": "code",
   "execution_count": 920,
   "metadata": {},
   "outputs": [
    {
     "name": "stdout",
     "output_type": "stream",
     "text": [
      "f1 score (test): 0.7503837670930744\n",
      "precision score (test): 0.7283438945024833\n",
      "recall score (test): 0.7737991266375546\n"
     ]
    }
   ],
   "source": [
    "print(f'f1 score (test): {f1_score(y_train, y_pred_train1)}')\n",
    "print(f'precision score (test): {precision_score(y_train, y_pred_train1)}')\n",
    "print(f'recall score (test): {recall_score(y_train, y_pred_train1)}')"
   ]
  },
  {
   "cell_type": "markdown",
   "metadata": {},
   "source": [
    "### with validation "
   ]
  },
  {
   "cell_type": "code",
   "execution_count": 921,
   "metadata": {
    "scrolled": true
   },
   "outputs": [],
   "source": [
    "y_pred_val = model1.predict(X_val)"
   ]
  },
  {
   "cell_type": "code",
   "execution_count": 922,
   "metadata": {},
   "outputs": [
    {
     "data": {
      "text/plain": [
       "array([[17451,  2305],\n",
       "       [ 1810,  6187]])"
      ]
     },
     "execution_count": 922,
     "metadata": {},
     "output_type": "execute_result"
    }
   ],
   "source": [
    "THRESHOLD = 0.45\n",
    "y_pred_val1 = np.round(y_pred_val, 2)\n",
    "y_pred_val1 = np.where(y_pred_val1>THRESHOLD,1,0)[:,1] #take all the columns, rows =1\n",
    "confusion_matrix(y_val, y_pred_val1)"
   ]
  },
  {
   "cell_type": "code",
   "execution_count": 923,
   "metadata": {
    "scrolled": false
   },
   "outputs": [
    {
     "name": "stdout",
     "output_type": "stream",
     "text": [
      "f1 score (val): 0.7504396870641034\n",
      "precision_score (val): 0.7285680640602921\n",
      "recall_score (val): 0.7736651244216581\n"
     ]
    }
   ],
   "source": [
    "print(f'f1 score (val): {f1_score(y_val, y_pred_val1)}')\n",
    "print(f'precision_score (val): {precision_score(y_val,y_pred_val1)}')\n",
    "print(f'recall_score (val): {recall_score(y_val, y_pred_val1)}')"
   ]
  },
  {
   "cell_type": "code",
   "execution_count": 924,
   "metadata": {
    "scrolled": true
   },
   "outputs": [
    {
     "data": {
      "text/plain": [
       "array([[35802,  3874],\n",
       "       [ 4129, 11700]])"
      ]
     },
     "execution_count": 924,
     "metadata": {},
     "output_type": "execute_result"
    }
   ],
   "source": [
    "confusion_matrix(y_test, Y_pred_classes)"
   ]
  },
  {
   "cell_type": "code",
   "execution_count": 1070,
   "metadata": {},
   "outputs": [],
   "source": [
    "from sklearn.metrics import roc_curve, auc, roc_auc_score\n",
    "fpr, tpr, thresholds = roc_curve(y_test, y_pred_test1)"
   ]
  },
  {
   "cell_type": "code",
   "execution_count": 1081,
   "metadata": {},
   "outputs": [
    {
     "name": "stdout",
     "output_type": "stream",
     "text": [
      "39676\n",
      "15829\n"
     ]
    }
   ],
   "source": [
    "print((y_test==0).sum())\n",
    "print((y_test==1).sum())\n"
   ]
  },
  {
   "cell_type": "code",
   "execution_count": 964,
   "metadata": {
    "scrolled": true
   },
   "outputs": [],
   "source": [
    "roc_auc = auc(fpr, tpr)"
   ]
  },
  {
   "cell_type": "code",
   "execution_count": 971,
   "metadata": {},
   "outputs": [
    {
     "data": {
      "text/plain": [
       "array([[0.6 , 0.4 ],\n",
       "       [0.26, 0.74],\n",
       "       [0.26, 0.74],\n",
       "       ...,\n",
       "       [0.91, 0.09],\n",
       "       [0.21, 0.79],\n",
       "       [0.24, 0.76]], dtype=float32)"
      ]
     },
     "execution_count": 971,
     "metadata": {},
     "output_type": "execute_result"
    }
   ],
   "source": [
    "y_pred_test"
   ]
  },
  {
   "cell_type": "code",
   "execution_count": 965,
   "metadata": {},
   "outputs": [
    {
     "data": {
      "image/png": "[encoded data removed]",
      "text/plain": [
       "<Figure size 432x288 with 1 Axes>"
      ]
     },
     "metadata": {
      "needs_background": "light"
     },
     "output_type": "display_data"
    }
   ],
   "source": [
    "import matplotlib.pyplot as plt\n",
    "plt.title('ROC')\n",
    "plt.plot(fpr, tpr, 'b', label = 'AUC = %0.2f' % roc_auc)\n",
    "plt.legend(loc = 'lower right')\n",
    "plt.plot([0, 1], [0, 1],'r--')\n",
    "plt.xlim([0, 1])\n",
    "plt.ylim([0, 1])\n",
    "plt.ylabel('True Positive Rate')\n",
    "plt.xlabel('False Positive Rate')\n",
    "plt.show()"
   ]
  },
  {
   "cell_type": "markdown",
   "metadata": {},
   "source": [
    "## Plotting layers:"
   ]
  },
  {
   "cell_type": "code",
   "execution_count": 932,
   "metadata": {},
   "outputs": [],
   "source": [
    "layer_outputs = [i.output for i in model1.layers[:6]] \n",
    "# get the out put of the layers\n"
   ]
  },
  {
   "cell_type": "code",
   "execution_count": 933,
   "metadata": {
    "scrolled": true
   },
   "outputs": [
    {
     "data": {
      "text/plain": [
       "6"
      ]
     },
     "execution_count": 933,
     "metadata": {},
     "output_type": "execute_result"
    }
   ],
   "source": [
    "len(layer_outputs)"
   ]
  },
  {
   "cell_type": "code",
   "execution_count": 934,
   "metadata": {},
   "outputs": [],
   "source": [
    "from keras import models\n",
    "\n",
    "activation_model = models.Model(inputs=model1.input, outputs=layer_outputs) \n",
    "# Creates a model that will return these outputs, given the model input"
   ]
  },
  {
   "cell_type": "code",
   "execution_count": 935,
   "metadata": {
    "scrolled": true
   },
   "outputs": [
    {
     "data": {
      "text/plain": [
       "<tf.Tensor 'conv2d_147_input:0' shape=(?, 50, 50, 3) dtype=float32>"
      ]
     },
     "execution_count": 935,
     "metadata": {},
     "output_type": "execute_result"
    }
   ],
   "source": [
    "model1.input"
   ]
  },
  {
   "cell_type": "code",
   "execution_count": 936,
   "metadata": {},
   "outputs": [],
   "source": [
    "#img = np.expand_dims(img, axis=0)"
   ]
  },
  {
   "cell_type": "code",
   "execution_count": 937,
   "metadata": {},
   "outputs": [],
   "source": [
    "activations = activation_model.predict(img_reshape)"
   ]
  },
  {
   "cell_type": "code",
   "execution_count": 938,
   "metadata": {
    "scrolled": true
   },
   "outputs": [
    {
     "data": {
      "text/plain": [
       "(1, 5, 5, 64)"
      ]
     },
     "execution_count": 938,
     "metadata": {},
     "output_type": "execute_result"
    }
   ],
   "source": [
    "activations[5].shape"
   ]
  },
  {
   "cell_type": "code",
   "execution_count": 939,
   "metadata": {},
   "outputs": [
    {
     "name": "stdout",
     "output_type": "stream",
     "text": [
      "(1, 24, 24, 32)\n"
     ]
    }
   ],
   "source": [
    "first_layer_activation = activations[0]\n",
    "print(first_layer_activation.shape)  # we defined 32 chanels at the beginning"
   ]
  },
  {
   "cell_type": "code",
   "execution_count": 940,
   "metadata": {
    "scrolled": true
   },
   "outputs": [
    {
     "data": {
      "text/plain": [
       "<matplotlib.image.AxesImage at 0x1bdc182898>"
      ]
     },
     "execution_count": 940,
     "metadata": {},
     "output_type": "execute_result"
    },
    {
     "data": {
      "image/png": "[encoded data removed]",
      "text/plain": [
       "<Figure size 288x288 with 1 Axes>"
      ]
     },
     "metadata": {
      "needs_background": "light"
     },
     "output_type": "display_data"
    }
   ],
   "source": [
    "plt.matshow(first_layer_activation[0, :, :, 4], cmap='viridis')  # 4 channels of the first activation layers"
   ]
  },
  {
   "cell_type": "code",
   "execution_count": 941,
   "metadata": {},
   "outputs": [],
   "source": [
    "layer_names = [i for i in model1.layers[:6]]"
   ]
  },
  {
   "cell_type": "code",
   "execution_count": 942,
   "metadata": {
    "scrolled": true
   },
   "outputs": [
    {
     "data": {
      "text/plain": [
       "[<keras.layers.convolutional.Conv2D at 0x1c06c458d0>,\n",
       " <keras.layers.pooling.MaxPooling2D at 0x1c06c45978>,\n",
       " <keras.layers.core.Dropout at 0x1bfd013080>,\n",
       " <keras.layers.convolutional.Conv2D at 0x1bfd013a90>,\n",
       " <keras.layers.pooling.MaxPooling2D at 0x1bfd013198>,\n",
       " <keras.layers.core.Dropout at 0x1bfd018cf8>]"
      ]
     },
     "execution_count": 942,
     "metadata": {},
     "output_type": "execute_result"
    }
   ],
   "source": [
    "layer_names"
   ]
  },
  {
   "cell_type": "code",
   "execution_count": 943,
   "metadata": {
    "scrolled": true
   },
   "outputs": [
    {
     "data": {
      "text/plain": [
       "[array([[[[ 0.        , 29.76458   ,  0.        , ...,  0.        ,\n",
       "            0.        ,  0.        ],\n",
       "          [ 0.        ,  8.317395  ,  0.        , ...,  0.        ,\n",
       "            0.        ,  0.        ],\n",
       "          [10.285893  ,  3.1632924 ,  0.        , ...,  0.        ,\n",
       "            0.        ,  0.        ],\n",
       "          ...,\n",
       "          [ 3.2128012 ,  2.6641603 ,  0.        , ...,  0.        ,\n",
       "            0.        ,  0.        ],\n",
       "          [ 0.        ,  4.670348  ,  0.        , ...,  0.        ,\n",
       "            0.        ,  0.        ],\n",
       "          [ 0.        ,  2.6096761 ,  0.        , ...,  0.        ,\n",
       "            0.        ,  0.        ]],\n",
       " \n",
       "         [[ 0.8341429 , 41.07463   ,  0.        , ...,  0.        ,\n",
       "            0.        ,  0.        ],\n",
       "          [17.731464  ,  3.2447858 ,  0.        , ...,  0.        ,\n",
       "            0.        ,  0.        ],\n",
       "          [36.226154  , 24.100536  ,  0.        , ...,  0.        ,\n",
       "            0.        ,  0.        ],\n",
       "          ...,\n",
       "          [ 0.        , 14.078455  ,  0.        , ...,  0.        ,\n",
       "            0.        ,  0.        ],\n",
       "          [ 0.        ,  0.        ,  0.        , ...,  0.        ,\n",
       "            0.        ,  0.        ],\n",
       "          [ 0.        ,  1.389966  ,  0.        , ...,  0.        ,\n",
       "            0.        ,  0.        ]],\n",
       " \n",
       "         [[17.46892   , 24.572685  ,  0.        , ...,  0.        ,\n",
       "            0.        ,  0.        ],\n",
       "          [21.323565  , 20.90482   ,  0.        , ...,  0.        ,\n",
       "            0.        ,  0.        ],\n",
       "          [ 0.        , 36.13817   ,  0.        , ...,  0.        ,\n",
       "            0.        ,  0.        ],\n",
       "          ...,\n",
       "          [ 0.        ,  0.        ,  0.        , ...,  0.        ,\n",
       "            0.        ,  0.        ],\n",
       "          [ 0.        ,  0.        ,  0.        , ...,  0.        ,\n",
       "            0.        ,  0.        ],\n",
       "          [28.10512   ,  1.0931734 ,  0.        , ...,  0.        ,\n",
       "            0.        ,  0.        ]],\n",
       " \n",
       "         ...,\n",
       " \n",
       "         [[18.402262  , 13.339717  ,  0.        , ...,  0.        ,\n",
       "            0.        ,  0.        ],\n",
       "          [ 8.226835  ,  4.5702257 ,  0.        , ...,  0.        ,\n",
       "            0.        ,  0.        ],\n",
       "          [10.899032  , 13.147967  ,  0.        , ...,  0.        ,\n",
       "            0.        ,  0.        ],\n",
       "          ...,\n",
       "          [ 5.993651  ,  6.3221946 ,  0.        , ...,  0.        ,\n",
       "            0.        ,  0.        ],\n",
       "          [ 0.        , 11.676045  ,  0.        , ...,  0.        ,\n",
       "            0.        ,  0.        ],\n",
       "          [ 0.        , 23.0379    ,  0.        , ..., 20.566467  ,\n",
       "            0.        ,  0.        ]],\n",
       " \n",
       "         [[ 0.        , 33.222977  ,  0.        , ...,  0.        ,\n",
       "            0.        ,  0.        ],\n",
       "          [ 0.34457392, 17.562374  ,  0.        , ...,  0.        ,\n",
       "            0.        ,  0.        ],\n",
       "          [ 9.612184  ,  8.983549  ,  0.        , ...,  0.        ,\n",
       "            0.        ,  0.        ],\n",
       "          ...,\n",
       "          [ 0.        ,  0.        ,  0.        , ..., 33.316757  ,\n",
       "            0.        ,  0.        ],\n",
       "          [ 0.        , 18.935259  ,  0.        , ...,  0.        ,\n",
       "            0.        ,  0.        ],\n",
       "          [ 0.        , 24.040377  ,  0.        , ...,  0.        ,\n",
       "            0.        ,  0.        ]],\n",
       " \n",
       "         [[ 0.        , 27.204683  ,  0.        , ...,  0.        ,\n",
       "            0.        ,  0.        ],\n",
       "          [10.32905   , 16.279547  ,  0.        , ...,  0.        ,\n",
       "            0.        ,  0.        ],\n",
       "          [14.720844  , 22.513739  ,  0.        , ...,  0.        ,\n",
       "            0.        ,  0.        ],\n",
       "          ...,\n",
       "          [ 0.        ,  5.684324  ,  0.        , ..., 18.44204   ,\n",
       "            0.        ,  0.        ],\n",
       "          [ 0.        , 17.503859  ,  0.        , ..., 19.68161   ,\n",
       "            0.        ,  0.        ],\n",
       "          [ 5.2668686 , 21.884068  ,  0.        , ...,  0.        ,\n",
       "            0.        ,  0.        ]]]], dtype=float32),\n",
       " array([[[[17.731464  , 41.07463   ,  0.        , ...,  0.        ,\n",
       "            0.        ,  0.        ],\n",
       "          [36.226154  , 24.100536  ,  0.        , ...,  0.        ,\n",
       "            0.        ,  0.        ],\n",
       "          [ 0.        , 15.115112  ,  0.        , ...,  0.        ,\n",
       "            0.        ,  0.        ],\n",
       "          ...,\n",
       "          [26.159237  , 32.170853  ,  0.        , ...,  0.        ,\n",
       "            0.        ,  0.        ],\n",
       "          [ 6.988901  , 14.078455  ,  0.        , ...,  0.        ,\n",
       "            0.        ,  0.        ],\n",
       "          [ 0.        ,  4.670348  ,  0.        , ...,  0.        ,\n",
       "            0.        ,  0.        ]],\n",
       " \n",
       "         [[21.323565  , 44.311275  ,  0.        , ...,  0.        ,\n",
       "            0.        ,  0.        ],\n",
       "          [29.871796  , 36.13817   ,  0.        , ...,  0.        ,\n",
       "            0.        ,  0.        ],\n",
       "          [40.894875  , 21.566088  ,  0.        , ...,  0.        ,\n",
       "            0.        ,  0.        ],\n",
       "          ...,\n",
       "          [10.260932  , 16.726856  ,  0.        , ...,  0.        ,\n",
       "            0.        ,  0.        ],\n",
       "          [48.12812   , 21.036911  ,  0.        , ...,  0.        ,\n",
       "            3.2868838 ,  0.        ],\n",
       "          [32.145855  , 15.346165  ,  0.        , ...,  2.7150521 ,\n",
       "            1.987079  ,  0.        ]],\n",
       " \n",
       "         [[ 0.        , 20.055397  ,  0.        , ...,  0.        ,\n",
       "            0.        ,  0.        ],\n",
       "          [19.251274  , 31.593626  ,  0.        , ..., 18.35336   ,\n",
       "            0.        ,  0.        ],\n",
       "          [ 5.4931717 , 40.28278   ,  0.        , ..., 14.43984   ,\n",
       "            0.        ,  0.        ],\n",
       "          ...,\n",
       "          [19.266706  , 25.64886   ,  0.        , ..., 17.912909  ,\n",
       "            0.        ,  0.        ],\n",
       "          [26.213865  , 29.422403  ,  0.        , ...,  0.        ,\n",
       "            0.        ,  0.        ],\n",
       "          [ 4.0438952 , 35.362328  ,  0.        , ...,  0.        ,\n",
       "            0.        ,  0.        ]],\n",
       " \n",
       "         ...,\n",
       " \n",
       "         [[12.592242  , 23.901117  ,  0.        , ...,  0.        ,\n",
       "            0.        ,  0.        ],\n",
       "          [32.301796  ,  9.381513  ,  0.        , ...,  0.        ,\n",
       "            0.        ,  0.        ],\n",
       "          [ 9.9781065 , 31.26357   ,  0.        , ...,  0.        ,\n",
       "            0.        ,  0.        ],\n",
       "          ...,\n",
       "          [34.481945  , 20.265171  ,  0.        , ..., 12.697128  ,\n",
       "            0.        ,  0.        ],\n",
       "          [11.214559  , 32.60743   ,  0.        , ...,  0.        ,\n",
       "            0.        ,  0.        ],\n",
       "          [ 0.        , 19.286182  ,  0.        , ..., 14.297392  ,\n",
       "            0.        ,  0.        ]],\n",
       " \n",
       "         [[18.402262  , 13.339717  ,  0.        , ...,  3.671931  ,\n",
       "            0.        ,  0.        ],\n",
       "          [10.899032  , 23.8295    ,  0.        , ..., 12.087982  ,\n",
       "            0.        ,  0.        ],\n",
       "          [ 0.        , 32.097855  ,  0.        , ...,  0.        ,\n",
       "            0.        ,  0.        ],\n",
       "          ...,\n",
       "          [13.479617  , 36.5385    ,  0.        , ..., 16.759863  ,\n",
       "            0.        ,  0.        ],\n",
       "          [16.437784  , 22.67437   ,  0.        , ..., 16.261045  ,\n",
       "            0.        ,  0.        ],\n",
       "          [22.258867  , 23.0379    ,  0.        , ..., 20.566467  ,\n",
       "            0.        ,  0.        ]],\n",
       " \n",
       "         [[10.32905   , 33.222977  ,  0.        , ...,  0.        ,\n",
       "            0.        ,  0.        ],\n",
       "          [14.720844  , 30.50591   ,  0.        , ...,  0.        ,\n",
       "            0.        ,  0.        ],\n",
       "          [19.578154  , 23.083035  ,  0.        , ...,  0.        ,\n",
       "            0.        ,  0.        ],\n",
       "          ...,\n",
       "          [ 6.4305015 ,  9.506549  ,  0.        , ...,  0.49062422,\n",
       "            0.        ,  0.        ],\n",
       "          [ 0.        ,  9.179732  ,  0.        , ..., 33.316757  ,\n",
       "            0.        ,  0.        ],\n",
       "          [ 5.2668686 , 24.040377  ,  0.        , ..., 19.68161   ,\n",
       "            0.        ,  0.        ]]]], dtype=float32),\n",
       " array([[[[17.731464  , 41.07463   ,  0.        , ...,  0.        ,\n",
       "            0.        ,  0.        ],\n",
       "          [36.226154  , 24.100536  ,  0.        , ...,  0.        ,\n",
       "            0.        ,  0.        ],\n",
       "          [ 0.        , 15.115112  ,  0.        , ...,  0.        ,\n",
       "            0.        ,  0.        ],\n",
       "          ...,\n",
       "          [26.159237  , 32.170853  ,  0.        , ...,  0.        ,\n",
       "            0.        ,  0.        ],\n",
       "          [ 6.988901  , 14.078455  ,  0.        , ...,  0.        ,\n",
       "            0.        ,  0.        ],\n",
       "          [ 0.        ,  4.670348  ,  0.        , ...,  0.        ,\n",
       "            0.        ,  0.        ]],\n",
       " \n",
       "         [[21.323565  , 44.311275  ,  0.        , ...,  0.        ,\n",
       "            0.        ,  0.        ],\n",
       "          [29.871796  , 36.13817   ,  0.        , ...,  0.        ,\n",
       "            0.        ,  0.        ],\n",
       "          [40.894875  , 21.566088  ,  0.        , ...,  0.        ,\n",
       "            0.        ,  0.        ],\n",
       "          ...,\n",
       "          [10.260932  , 16.726856  ,  0.        , ...,  0.        ,\n",
       "            0.        ,  0.        ],\n",
       "          [48.12812   , 21.036911  ,  0.        , ...,  0.        ,\n",
       "            3.2868838 ,  0.        ],\n",
       "          [32.145855  , 15.346165  ,  0.        , ...,  2.7150521 ,\n",
       "            1.987079  ,  0.        ]],\n",
       " \n",
       "         [[ 0.        , 20.055397  ,  0.        , ...,  0.        ,\n",
       "            0.        ,  0.        ],\n",
       "          [19.251274  , 31.593626  ,  0.        , ..., 18.35336   ,\n",
       "            0.        ,  0.        ],\n",
       "          [ 5.4931717 , 40.28278   ,  0.        , ..., 14.43984   ,\n",
       "            0.        ,  0.        ],\n",
       "          ...,\n",
       "          [19.266706  , 25.64886   ,  0.        , ..., 17.912909  ,\n",
       "            0.        ,  0.        ],\n",
       "          [26.213865  , 29.422403  ,  0.        , ...,  0.        ,\n",
       "            0.        ,  0.        ],\n",
       "          [ 4.0438952 , 35.362328  ,  0.        , ...,  0.        ,\n",
       "            0.        ,  0.        ]],\n",
       " \n",
       "         ...,\n",
       " \n",
       "         [[12.592242  , 23.901117  ,  0.        , ...,  0.        ,\n",
       "            0.        ,  0.        ],\n",
       "          [32.301796  ,  9.381513  ,  0.        , ...,  0.        ,\n",
       "            0.        ,  0.        ],\n",
       "          [ 9.9781065 , 31.26357   ,  0.        , ...,  0.        ,\n",
       "            0.        ,  0.        ],\n",
       "          ...,\n",
       "          [34.481945  , 20.265171  ,  0.        , ..., 12.697128  ,\n",
       "            0.        ,  0.        ],\n",
       "          [11.214559  , 32.60743   ,  0.        , ...,  0.        ,\n",
       "            0.        ,  0.        ],\n",
       "          [ 0.        , 19.286182  ,  0.        , ..., 14.297392  ,\n",
       "            0.        ,  0.        ]],\n",
       " \n",
       "         [[18.402262  , 13.339717  ,  0.        , ...,  3.671931  ,\n",
       "            0.        ,  0.        ],\n",
       "          [10.899032  , 23.8295    ,  0.        , ..., 12.087982  ,\n",
       "            0.        ,  0.        ],\n",
       "          [ 0.        , 32.097855  ,  0.        , ...,  0.        ,\n",
       "            0.        ,  0.        ],\n",
       "          ...,\n",
       "          [13.479617  , 36.5385    ,  0.        , ..., 16.759863  ,\n",
       "            0.        ,  0.        ],\n",
       "          [16.437784  , 22.67437   ,  0.        , ..., 16.261045  ,\n",
       "            0.        ,  0.        ],\n",
       "          [22.258867  , 23.0379    ,  0.        , ..., 20.566467  ,\n",
       "            0.        ,  0.        ]],\n",
       " \n",
       "         [[10.32905   , 33.222977  ,  0.        , ...,  0.        ,\n",
       "            0.        ,  0.        ],\n",
       "          [14.720844  , 30.50591   ,  0.        , ...,  0.        ,\n",
       "            0.        ,  0.        ],\n",
       "          [19.578154  , 23.083035  ,  0.        , ...,  0.        ,\n",
       "            0.        ,  0.        ],\n",
       "          ...,\n",
       "          [ 6.4305015 ,  9.506549  ,  0.        , ...,  0.49062422,\n",
       "            0.        ,  0.        ],\n",
       "          [ 0.        ,  9.179732  ,  0.        , ..., 33.316757  ,\n",
       "            0.        ,  0.        ],\n",
       "          [ 5.2668686 , 24.040377  ,  0.        , ..., 19.68161   ,\n",
       "            0.        ,  0.        ]]]], dtype=float32),\n",
       " array([[[[0.       , 0.       , 0.       , ..., 0.       , 0.       ,\n",
       "           0.       ],\n",
       "          [0.       , 0.       , 0.       , ..., 0.       , 0.       ,\n",
       "           0.       ],\n",
       "          [0.       , 0.       , 0.       , ..., 0.       , 0.       ,\n",
       "           0.       ],\n",
       "          ...,\n",
       "          [0.       , 0.       , 0.       , ..., 0.       , 0.       ,\n",
       "           0.       ],\n",
       "          [0.       , 0.       , 0.       , ..., 0.       , 0.       ,\n",
       "           0.       ],\n",
       "          [0.       , 0.       , 0.       , ..., 0.       , 0.       ,\n",
       "           0.       ]],\n",
       " \n",
       "         [[0.       , 0.       , 0.       , ..., 0.       , 0.       ,\n",
       "           0.       ],\n",
       "          [0.       , 0.       , 0.       , ..., 0.       , 0.       ,\n",
       "           0.       ],\n",
       "          [0.       , 0.       , 0.       , ..., 0.       , 0.       ,\n",
       "           0.       ],\n",
       "          ...,\n",
       "          [0.       , 0.       , 0.       , ..., 0.       , 0.       ,\n",
       "           0.       ],\n",
       "          [0.       , 0.       , 0.       , ..., 0.       , 0.       ,\n",
       "           0.       ],\n",
       "          [0.       , 0.       , 0.       , ..., 0.       , 0.       ,\n",
       "           0.       ]],\n",
       " \n",
       "         [[0.       , 0.       , 0.       , ..., 0.       , 0.       ,\n",
       "           0.       ],\n",
       "          [0.       , 0.       , 0.       , ..., 0.       , 0.       ,\n",
       "           0.       ],\n",
       "          [0.       , 0.       , 0.       , ..., 0.       , 0.       ,\n",
       "           0.       ],\n",
       "          ...,\n",
       "          [0.       , 0.       , 0.       , ..., 0.       , 0.       ,\n",
       "           0.       ],\n",
       "          [0.       , 0.       , 0.       , ..., 0.       , 0.       ,\n",
       "           0.       ],\n",
       "          [0.       , 0.       , 0.       , ..., 0.       , 0.       ,\n",
       "           0.       ]],\n",
       " \n",
       "         ...,\n",
       " \n",
       "         [[0.       , 0.       , 0.       , ..., 0.       , 0.       ,\n",
       "           0.       ],\n",
       "          [0.       , 0.       , 0.       , ..., 0.       , 0.       ,\n",
       "           0.       ],\n",
       "          [0.       , 0.       , 0.       , ..., 0.       , 0.       ,\n",
       "           0.       ],\n",
       "          ...,\n",
       "          [0.       , 1.7251699, 0.       , ..., 0.       , 0.       ,\n",
       "           0.       ],\n",
       "          [0.       , 0.       , 0.       , ..., 0.       , 0.       ,\n",
       "           0.       ],\n",
       "          [0.       , 0.       , 0.       , ..., 0.       , 0.       ,\n",
       "           0.       ]],\n",
       " \n",
       "         [[0.       , 0.       , 0.       , ..., 0.       , 0.       ,\n",
       "           0.       ],\n",
       "          [0.       , 0.       , 0.       , ..., 0.       , 0.       ,\n",
       "           0.       ],\n",
       "          [0.       , 0.       , 0.       , ..., 0.       , 0.       ,\n",
       "           0.       ],\n",
       "          ...,\n",
       "          [0.       , 0.       , 0.       , ..., 0.       , 0.       ,\n",
       "           0.       ],\n",
       "          [0.       , 0.       , 0.       , ..., 0.       , 0.       ,\n",
       "           0.       ],\n",
       "          [0.       , 0.       , 0.       , ..., 0.       , 0.       ,\n",
       "           0.       ]],\n",
       " \n",
       "         [[0.       , 0.       , 0.       , ..., 0.       , 0.       ,\n",
       "           0.       ],\n",
       "          [0.       , 0.       , 0.       , ..., 0.       , 0.       ,\n",
       "           0.       ],\n",
       "          [0.       , 0.       , 0.       , ..., 0.       , 0.       ,\n",
       "           0.       ],\n",
       "          ...,\n",
       "          [0.       , 2.5477455, 0.       , ..., 0.       , 0.       ,\n",
       "           0.       ],\n",
       "          [0.       , 0.5660436, 0.       , ..., 0.       , 0.       ,\n",
       "           0.       ],\n",
       "          [0.       , 0.       , 0.       , ..., 0.       , 0.       ,\n",
       "           0.       ]]]], dtype=float32),\n",
       " array([[[[0.        , 0.        , 0.        , ..., 0.        ,\n",
       "           0.        , 0.        ],\n",
       "          [0.        , 0.        , 0.        , ..., 0.        ,\n",
       "           0.        , 0.        ],\n",
       "          [1.0984341 , 0.        , 0.        , ..., 0.        ,\n",
       "           0.        , 0.        ],\n",
       "          [0.        , 0.        , 0.        , ..., 0.        ,\n",
       "           0.        , 0.        ],\n",
       "          [0.        , 0.        , 0.        , ..., 0.        ,\n",
       "           0.        , 0.        ]],\n",
       " \n",
       "         [[0.        , 0.        , 0.        , ..., 0.        ,\n",
       "           0.        , 0.        ],\n",
       "          [0.        , 0.        , 0.        , ..., 0.        ,\n",
       "           7.761535  , 0.        ],\n",
       "          [0.        , 0.        , 0.        , ..., 0.        ,\n",
       "           0.        , 0.        ],\n",
       "          [0.        , 0.        , 0.        , ..., 0.        ,\n",
       "           0.        , 0.        ],\n",
       "          [0.        , 0.        , 0.        , ..., 0.        ,\n",
       "           0.        , 0.        ]],\n",
       " \n",
       "         [[0.        , 0.        , 0.        , ..., 0.        ,\n",
       "           0.        , 0.        ],\n",
       "          [0.        , 0.        , 0.        , ..., 0.        ,\n",
       "           3.2951112 , 0.        ],\n",
       "          [0.        , 3.2149055 , 0.        , ..., 0.        ,\n",
       "           0.        , 0.        ],\n",
       "          [0.        , 0.        , 0.        , ..., 0.        ,\n",
       "           0.        , 0.        ],\n",
       "          [0.        , 0.02440432, 0.        , ..., 0.        ,\n",
       "           0.        , 0.        ]],\n",
       " \n",
       "         [[0.        , 0.        , 0.        , ..., 0.        ,\n",
       "           0.        , 0.        ],\n",
       "          [0.        , 1.0426872 , 0.        , ..., 0.        ,\n",
       "           0.        , 0.        ],\n",
       "          [0.        , 0.        , 0.        , ..., 0.        ,\n",
       "           0.        , 0.        ],\n",
       "          [0.        , 1.7251699 , 0.        , ..., 0.        ,\n",
       "           0.        , 0.        ],\n",
       "          [0.        , 0.        , 0.        , ..., 0.        ,\n",
       "           0.        , 0.        ]],\n",
       " \n",
       "         [[0.        , 0.        , 0.        , ..., 0.        ,\n",
       "           0.        , 0.        ],\n",
       "          [0.        , 0.        , 0.        , ..., 0.        ,\n",
       "           0.        , 0.        ],\n",
       "          [0.        , 0.        , 0.        , ..., 0.        ,\n",
       "           0.        , 0.        ],\n",
       "          [0.        , 2.5477455 , 0.        , ..., 0.        ,\n",
       "           0.        , 0.        ],\n",
       "          [0.        , 0.5660436 , 0.        , ..., 0.        ,\n",
       "           0.        , 0.        ]]]], dtype=float32),\n",
       " array([[[[0.        , 0.        , 0.        , ..., 0.        ,\n",
       "           0.        , 0.        ],\n",
       "          [0.        , 0.        , 0.        , ..., 0.        ,\n",
       "           0.        , 0.        ],\n",
       "          [1.0984341 , 0.        , 0.        , ..., 0.        ,\n",
       "           0.        , 0.        ],\n",
       "          [0.        , 0.        , 0.        , ..., 0.        ,\n",
       "           0.        , 0.        ],\n",
       "          [0.        , 0.        , 0.        , ..., 0.        ,\n",
       "           0.        , 0.        ]],\n",
       " \n",
       "         [[0.        , 0.        , 0.        , ..., 0.        ,\n",
       "           0.        , 0.        ],\n",
       "          [0.        , 0.        , 0.        , ..., 0.        ,\n",
       "           7.761535  , 0.        ],\n",
       "          [0.        , 0.        , 0.        , ..., 0.        ,\n",
       "           0.        , 0.        ],\n",
       "          [0.        , 0.        , 0.        , ..., 0.        ,\n",
       "           0.        , 0.        ],\n",
       "          [0.        , 0.        , 0.        , ..., 0.        ,\n",
       "           0.        , 0.        ]],\n",
       " \n",
       "         [[0.        , 0.        , 0.        , ..., 0.        ,\n",
       "           0.        , 0.        ],\n",
       "          [0.        , 0.        , 0.        , ..., 0.        ,\n",
       "           3.2951112 , 0.        ],\n",
       "          [0.        , 3.2149055 , 0.        , ..., 0.        ,\n",
       "           0.        , 0.        ],\n",
       "          [0.        , 0.        , 0.        , ..., 0.        ,\n",
       "           0.        , 0.        ],\n",
       "          [0.        , 0.02440432, 0.        , ..., 0.        ,\n",
       "           0.        , 0.        ]],\n",
       " \n",
       "         [[0.        , 0.        , 0.        , ..., 0.        ,\n",
       "           0.        , 0.        ],\n",
       "          [0.        , 1.0426872 , 0.        , ..., 0.        ,\n",
       "           0.        , 0.        ],\n",
       "          [0.        , 0.        , 0.        , ..., 0.        ,\n",
       "           0.        , 0.        ],\n",
       "          [0.        , 1.7251699 , 0.        , ..., 0.        ,\n",
       "           0.        , 0.        ],\n",
       "          [0.        , 0.        , 0.        , ..., 0.        ,\n",
       "           0.        , 0.        ]],\n",
       " \n",
       "         [[0.        , 0.        , 0.        , ..., 0.        ,\n",
       "           0.        , 0.        ],\n",
       "          [0.        , 0.        , 0.        , ..., 0.        ,\n",
       "           0.        , 0.        ],\n",
       "          [0.        , 0.        , 0.        , ..., 0.        ,\n",
       "           0.        , 0.        ],\n",
       "          [0.        , 2.5477455 , 0.        , ..., 0.        ,\n",
       "           0.        , 0.        ],\n",
       "          [0.        , 0.5660436 , 0.        , ..., 0.        ,\n",
       "           0.        , 0.        ]]]], dtype=float32)]"
      ]
     },
     "execution_count": 943,
     "metadata": {},
     "output_type": "execute_result"
    }
   ],
   "source": [
    "activations"
   ]
  },
  {
   "cell_type": "markdown",
   "metadata": {},
   "source": [
    "The zip() function takes:\n",
    "- iterables – can be built-in iterables (like a list, string, dict), or user-defined iterables (an object that has an __iter__ method).\n",
    "\n",
    "The zip() function returns the iterator of tuples based on an iterable object.\n",
    "- If no parameters are passed on zip function then, zip() returns the empty iterator\n",
    "- If a single iterable is passed to the zip function then, zip() returns the iterator of 1-tuples. Meaning, the number of items in each tuple is 1.\n",
    "- If multiple iterables are passed, ith tuple contains ith Suppose, two iterables are passed; one iterable containing 3 and other containing five elements. Then, a returned iterator has three tuples. It’s because iterator stops when the shortest iterable is exhausted."
   ]
  },
  {
   "cell_type": "code",
   "execution_count": 944,
   "metadata": {
    "scrolled": true
   },
   "outputs": [
    {
     "name": "stderr",
     "output_type": "stream",
     "text": [
      "/anaconda3/anaconda3/lib/python3.7/site-packages/ipykernel_launcher.py:14: RuntimeWarning: invalid value encountered in true_divide\n",
      "  \n"
     ]
    },
    {
     "data": {
      "image/png": "[encoded data removed]",
      "text/plain": [
       "<Figure size 1152x144 with 1 Axes>"
      ]
     },
     "metadata": {
      "needs_background": "light"
     },
     "output_type": "display_data"
    },
    {
     "data": {
      "image/png": "[encoded data removed]",
      "text/plain": [
       "<Figure size 1152x144 with 1 Axes>"
      ]
     },
     "metadata": {
      "needs_background": "light"
     },
     "output_type": "display_data"
    },
    {
     "data": {
      "image/png": "[encoded data removed]",
      "text/plain": [
       "<Figure size 1152x144 with 1 Axes>"
      ]
     },
     "metadata": {
      "needs_background": "light"
     },
     "output_type": "display_data"
    },
    {
     "data": {
      "image/png": "[encoded data removed]",
      "text/plain": [
       "<Figure size 1152x288 with 1 Axes>"
      ]
     },
     "metadata": {
      "needs_background": "light"
     },
     "output_type": "display_data"
    },
    {
     "data": {
      "image/png": "[encoded data removed]",
      "text/plain": [
       "<Figure size 1152x288 with 1 Axes>"
      ]
     },
     "metadata": {
      "needs_background": "light"
     },
     "output_type": "display_data"
    },
    {
     "data": {
      "image/png": "[encoded data removed]",
      "text/plain": [
       "<Figure size 1152x288 with 1 Axes>"
      ]
     },
     "metadata": {
      "needs_background": "light"
     },
     "output_type": "display_data"
    }
   ],
   "source": [
    "images_per_row = 16\n",
    "\n",
    "for layer_name, layer_activation in zip(layer_names, activations): # Displays the feature maps\n",
    "    n_features = layer_activation.shape[-1] # Number of features in the feature map\n",
    "    size = layer_activation.shape[1] #The feature map has shape (1, size, size, n_features).\n",
    "    n_cols = n_features // images_per_row # Tiles the activation channels in this matrix\n",
    "    display_grid = np.zeros((size * n_cols, images_per_row * size))\n",
    "    for col in range(n_cols): # Tiles each filter into a big horizontal grid\n",
    "        for row in range(images_per_row):\n",
    "            channel_image = layer_activation[0,\n",
    "                                             :, :,\n",
    "                                             col * images_per_row + row]\n",
    "            channel_image -= channel_image.mean() # Post-processes the feature to make it visually palatable\n",
    "            channel_image /= channel_image.std()\n",
    "            channel_image *= 64\n",
    "            channel_image += 128\n",
    "            channel_image = np.clip(channel_image, 0, 255).astype('uint8')\n",
    "            display_grid[col * size : (col + 1) * size, # Displays the grid\n",
    "                         row * size : (row + 1) * size] = channel_image\n",
    "    scale = 1. / size\n",
    "    plt.figure(figsize=(scale * display_grid.shape[1],\n",
    "                        scale * display_grid.shape[0]))\n",
    "    plt.title(layer_name)\n",
    "    plt.grid(False)\n",
    "    plt.imshow(display_grid, aspect='auto', cmap='viridis')"
   ]
  }
 ],
 "metadata": {
  "kernelspec": {
   "display_name": "Python 3",
   "language": "python",
   "name": "python3"
  },
  "language_info": {
   "codemirror_mode": {
    "name": "ipython",
    "version": 3
   },
   "file_extension": ".py",
   "mimetype": "text/x-python",
   "name": "python",
   "nbconvert_exporter": "python",
   "pygments_lexer": "ipython3",
   "version": "3.7.3"
  }
 },
 "nbformat": 4,
 "nbformat_minor": 2
}
